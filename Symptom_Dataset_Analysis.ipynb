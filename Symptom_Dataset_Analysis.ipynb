{
  "cells": [
    {
      "cell_type": "markdown",
      "id": "0977d8ff",
      "metadata": {
        "id": "0977d8ff"
      },
      "source": [
        "# Symptoms\n",
        "\n"
      ]
    },
    {
      "cell_type": "code",
      "execution_count": 1,
      "id": "94b33e51",
      "metadata": {
        "colab": {
          "base_uri": "https://localhost:8080/",
          "height": 17
        },
        "id": "94b33e51",
        "outputId": "f172705d-a50a-4640-c568-1c03795800fe"
      },
      "outputs": [
        {
          "output_type": "display_data",
          "data": {
            "text/html": [
              "        <script type=\"text/javascript\">\n",
              "        window.PlotlyConfig = {MathJaxConfig: 'local'};\n",
              "        if (window.MathJax) {MathJax.Hub.Config({SVG: {font: \"STIX-Web\"}});}\n",
              "        if (typeof require !== 'undefined') {\n",
              "        require.undef(\"plotly\");\n",
              "        requirejs.config({\n",
              "            paths: {\n",
              "                'plotly': ['https://cdn.plot.ly/plotly-2.8.3.min']\n",
              "            }\n",
              "        });\n",
              "        require(['plotly'], function(Plotly) {\n",
              "            window._Plotly = Plotly;\n",
              "        });\n",
              "        }\n",
              "        </script>\n",
              "        "
            ]
          },
          "metadata": {}
        }
      ],
      "source": [
        "# Add all of your import statements here\n",
        "import numpy as np\n",
        "import pandas as pd\n",
        "%matplotlib inline\n",
        "import matplotlib.pyplot as plt\n",
        "import seaborn as sns\n",
        "import plotly as py\n",
        "import plotly.offline as py\n",
        "import plotly.graph_objs as go\n",
        "import plotly.tools as tls\n",
        "py.init_notebook_mode(connected=True)\n"
      ]
    },
    {
      "cell_type": "markdown",
      "id": "aace2c69",
      "metadata": {
        "id": "aace2c69"
      },
      "source": [
        "\n",
        "\n",
        "### Setup, Cleaning, Organizing, and Exploring the Data"
      ]
    },
    {
      "cell_type": "code",
      "execution_count": 2,
      "id": "244f4359",
      "metadata": {
        "colab": {
          "base_uri": "https://localhost:8080/",
          "height": 357
        },
        "id": "244f4359",
        "outputId": "586b62c8-5140-4f6e-946f-e60a9e5dcfb1"
      },
      "outputs": [
        {
          "output_type": "execute_result",
          "data": {
            "text/plain": [
              "            Disease   Symptom_1              Symptom_2              Symptom_3  \\\n",
              "0  Fungal infection     itching              skin_rash   nodal_skin_eruptions   \n",
              "1  Fungal infection   skin_rash   nodal_skin_eruptions    dischromic _patches   \n",
              "2  Fungal infection     itching   nodal_skin_eruptions    dischromic _patches   \n",
              "3  Fungal infection     itching              skin_rash    dischromic _patches   \n",
              "4  Fungal infection     itching              skin_rash   nodal_skin_eruptions   \n",
              "\n",
              "              Symptom_4 Symptom_5 Symptom_6 Symptom_7 Symptom_8 Symptom_9  \\\n",
              "0   dischromic _patches       NaN       NaN       NaN       NaN       NaN   \n",
              "1                   NaN       NaN       NaN       NaN       NaN       NaN   \n",
              "2                   NaN       NaN       NaN       NaN       NaN       NaN   \n",
              "3                   NaN       NaN       NaN       NaN       NaN       NaN   \n",
              "4                   NaN       NaN       NaN       NaN       NaN       NaN   \n",
              "\n",
              "  Symptom_10 Symptom_11 Symptom_12 Symptom_13 Symptom_14 Symptom_15  \\\n",
              "0        NaN        NaN        NaN        NaN        NaN        NaN   \n",
              "1        NaN        NaN        NaN        NaN        NaN        NaN   \n",
              "2        NaN        NaN        NaN        NaN        NaN        NaN   \n",
              "3        NaN        NaN        NaN        NaN        NaN        NaN   \n",
              "4        NaN        NaN        NaN        NaN        NaN        NaN   \n",
              "\n",
              "  Symptom_16 Symptom_17  \n",
              "0        NaN        NaN  \n",
              "1        NaN        NaN  \n",
              "2        NaN        NaN  \n",
              "3        NaN        NaN  \n",
              "4        NaN        NaN  "
            ],
            "text/html": [
              "\n",
              "  <div id=\"df-10a0d7d1-1f30-4bd1-9bad-894b6ad9482e\">\n",
              "    <div class=\"colab-df-container\">\n",
              "      <div>\n",
              "<style scoped>\n",
              "    .dataframe tbody tr th:only-of-type {\n",
              "        vertical-align: middle;\n",
              "    }\n",
              "\n",
              "    .dataframe tbody tr th {\n",
              "        vertical-align: top;\n",
              "    }\n",
              "\n",
              "    .dataframe thead th {\n",
              "        text-align: right;\n",
              "    }\n",
              "</style>\n",
              "<table border=\"1\" class=\"dataframe\">\n",
              "  <thead>\n",
              "    <tr style=\"text-align: right;\">\n",
              "      <th></th>\n",
              "      <th>Disease</th>\n",
              "      <th>Symptom_1</th>\n",
              "      <th>Symptom_2</th>\n",
              "      <th>Symptom_3</th>\n",
              "      <th>Symptom_4</th>\n",
              "      <th>Symptom_5</th>\n",
              "      <th>Symptom_6</th>\n",
              "      <th>Symptom_7</th>\n",
              "      <th>Symptom_8</th>\n",
              "      <th>Symptom_9</th>\n",
              "      <th>Symptom_10</th>\n",
              "      <th>Symptom_11</th>\n",
              "      <th>Symptom_12</th>\n",
              "      <th>Symptom_13</th>\n",
              "      <th>Symptom_14</th>\n",
              "      <th>Symptom_15</th>\n",
              "      <th>Symptom_16</th>\n",
              "      <th>Symptom_17</th>\n",
              "    </tr>\n",
              "  </thead>\n",
              "  <tbody>\n",
              "    <tr>\n",
              "      <th>0</th>\n",
              "      <td>Fungal infection</td>\n",
              "      <td>itching</td>\n",
              "      <td>skin_rash</td>\n",
              "      <td>nodal_skin_eruptions</td>\n",
              "      <td>dischromic _patches</td>\n",
              "      <td>NaN</td>\n",
              "      <td>NaN</td>\n",
              "      <td>NaN</td>\n",
              "      <td>NaN</td>\n",
              "      <td>NaN</td>\n",
              "      <td>NaN</td>\n",
              "      <td>NaN</td>\n",
              "      <td>NaN</td>\n",
              "      <td>NaN</td>\n",
              "      <td>NaN</td>\n",
              "      <td>NaN</td>\n",
              "      <td>NaN</td>\n",
              "      <td>NaN</td>\n",
              "    </tr>\n",
              "    <tr>\n",
              "      <th>1</th>\n",
              "      <td>Fungal infection</td>\n",
              "      <td>skin_rash</td>\n",
              "      <td>nodal_skin_eruptions</td>\n",
              "      <td>dischromic _patches</td>\n",
              "      <td>NaN</td>\n",
              "      <td>NaN</td>\n",
              "      <td>NaN</td>\n",
              "      <td>NaN</td>\n",
              "      <td>NaN</td>\n",
              "      <td>NaN</td>\n",
              "      <td>NaN</td>\n",
              "      <td>NaN</td>\n",
              "      <td>NaN</td>\n",
              "      <td>NaN</td>\n",
              "      <td>NaN</td>\n",
              "      <td>NaN</td>\n",
              "      <td>NaN</td>\n",
              "      <td>NaN</td>\n",
              "    </tr>\n",
              "    <tr>\n",
              "      <th>2</th>\n",
              "      <td>Fungal infection</td>\n",
              "      <td>itching</td>\n",
              "      <td>nodal_skin_eruptions</td>\n",
              "      <td>dischromic _patches</td>\n",
              "      <td>NaN</td>\n",
              "      <td>NaN</td>\n",
              "      <td>NaN</td>\n",
              "      <td>NaN</td>\n",
              "      <td>NaN</td>\n",
              "      <td>NaN</td>\n",
              "      <td>NaN</td>\n",
              "      <td>NaN</td>\n",
              "      <td>NaN</td>\n",
              "      <td>NaN</td>\n",
              "      <td>NaN</td>\n",
              "      <td>NaN</td>\n",
              "      <td>NaN</td>\n",
              "      <td>NaN</td>\n",
              "    </tr>\n",
              "    <tr>\n",
              "      <th>3</th>\n",
              "      <td>Fungal infection</td>\n",
              "      <td>itching</td>\n",
              "      <td>skin_rash</td>\n",
              "      <td>dischromic _patches</td>\n",
              "      <td>NaN</td>\n",
              "      <td>NaN</td>\n",
              "      <td>NaN</td>\n",
              "      <td>NaN</td>\n",
              "      <td>NaN</td>\n",
              "      <td>NaN</td>\n",
              "      <td>NaN</td>\n",
              "      <td>NaN</td>\n",
              "      <td>NaN</td>\n",
              "      <td>NaN</td>\n",
              "      <td>NaN</td>\n",
              "      <td>NaN</td>\n",
              "      <td>NaN</td>\n",
              "      <td>NaN</td>\n",
              "    </tr>\n",
              "    <tr>\n",
              "      <th>4</th>\n",
              "      <td>Fungal infection</td>\n",
              "      <td>itching</td>\n",
              "      <td>skin_rash</td>\n",
              "      <td>nodal_skin_eruptions</td>\n",
              "      <td>NaN</td>\n",
              "      <td>NaN</td>\n",
              "      <td>NaN</td>\n",
              "      <td>NaN</td>\n",
              "      <td>NaN</td>\n",
              "      <td>NaN</td>\n",
              "      <td>NaN</td>\n",
              "      <td>NaN</td>\n",
              "      <td>NaN</td>\n",
              "      <td>NaN</td>\n",
              "      <td>NaN</td>\n",
              "      <td>NaN</td>\n",
              "      <td>NaN</td>\n",
              "      <td>NaN</td>\n",
              "    </tr>\n",
              "  </tbody>\n",
              "</table>\n",
              "</div>\n",
              "      <button class=\"colab-df-convert\" onclick=\"convertToInteractive('df-10a0d7d1-1f30-4bd1-9bad-894b6ad9482e')\"\n",
              "              title=\"Convert this dataframe to an interactive table.\"\n",
              "              style=\"display:none;\">\n",
              "        \n",
              "  <svg xmlns=\"http://www.w3.org/2000/svg\" height=\"24px\"viewBox=\"0 0 24 24\"\n",
              "       width=\"24px\">\n",
              "    <path d=\"M0 0h24v24H0V0z\" fill=\"none\"/>\n",
              "    <path d=\"M18.56 5.44l.94 2.06.94-2.06 2.06-.94-2.06-.94-.94-2.06-.94 2.06-2.06.94zm-11 1L8.5 8.5l.94-2.06 2.06-.94-2.06-.94L8.5 2.5l-.94 2.06-2.06.94zm10 10l.94 2.06.94-2.06 2.06-.94-2.06-.94-.94-2.06-.94 2.06-2.06.94z\"/><path d=\"M17.41 7.96l-1.37-1.37c-.4-.4-.92-.59-1.43-.59-.52 0-1.04.2-1.43.59L10.3 9.45l-7.72 7.72c-.78.78-.78 2.05 0 2.83L4 21.41c.39.39.9.59 1.41.59.51 0 1.02-.2 1.41-.59l7.78-7.78 2.81-2.81c.8-.78.8-2.07 0-2.86zM5.41 20L4 18.59l7.72-7.72 1.47 1.35L5.41 20z\"/>\n",
              "  </svg>\n",
              "      </button>\n",
              "      \n",
              "  <style>\n",
              "    .colab-df-container {\n",
              "      display:flex;\n",
              "      flex-wrap:wrap;\n",
              "      gap: 12px;\n",
              "    }\n",
              "\n",
              "    .colab-df-convert {\n",
              "      background-color: #E8F0FE;\n",
              "      border: none;\n",
              "      border-radius: 50%;\n",
              "      cursor: pointer;\n",
              "      display: none;\n",
              "      fill: #1967D2;\n",
              "      height: 32px;\n",
              "      padding: 0 0 0 0;\n",
              "      width: 32px;\n",
              "    }\n",
              "\n",
              "    .colab-df-convert:hover {\n",
              "      background-color: #E2EBFA;\n",
              "      box-shadow: 0px 1px 2px rgba(60, 64, 67, 0.3), 0px 1px 3px 1px rgba(60, 64, 67, 0.15);\n",
              "      fill: #174EA6;\n",
              "    }\n",
              "\n",
              "    [theme=dark] .colab-df-convert {\n",
              "      background-color: #3B4455;\n",
              "      fill: #D2E3FC;\n",
              "    }\n",
              "\n",
              "    [theme=dark] .colab-df-convert:hover {\n",
              "      background-color: #434B5C;\n",
              "      box-shadow: 0px 1px 3px 1px rgba(0, 0, 0, 0.15);\n",
              "      filter: drop-shadow(0px 1px 2px rgba(0, 0, 0, 0.3));\n",
              "      fill: #FFFFFF;\n",
              "    }\n",
              "  </style>\n",
              "\n",
              "      <script>\n",
              "        const buttonEl =\n",
              "          document.querySelector('#df-10a0d7d1-1f30-4bd1-9bad-894b6ad9482e button.colab-df-convert');\n",
              "        buttonEl.style.display =\n",
              "          google.colab.kernel.accessAllowed ? 'block' : 'none';\n",
              "\n",
              "        async function convertToInteractive(key) {\n",
              "          const element = document.querySelector('#df-10a0d7d1-1f30-4bd1-9bad-894b6ad9482e');\n",
              "          const dataTable =\n",
              "            await google.colab.kernel.invokeFunction('convertToInteractive',\n",
              "                                                     [key], {});\n",
              "          if (!dataTable) return;\n",
              "\n",
              "          const docLinkHtml = 'Like what you see? Visit the ' +\n",
              "            '<a target=\"_blank\" href=https://colab.research.google.com/notebooks/data_table.ipynb>data table notebook</a>'\n",
              "            + ' to learn more about interactive tables.';\n",
              "          element.innerHTML = '';\n",
              "          dataTable['output_type'] = 'display_data';\n",
              "          await google.colab.output.renderOutput(dataTable, element);\n",
              "          const docLink = document.createElement('div');\n",
              "          docLink.innerHTML = docLinkHtml;\n",
              "          element.appendChild(docLink);\n",
              "        }\n",
              "      </script>\n",
              "    </div>\n",
              "  </div>\n",
              "  "
            ]
          },
          "metadata": {},
          "execution_count": 2
        }
      ],
      "source": [
        "#read in the data\n",
        "df_raw_data = pd.read_csv('symptom_dataset.csv')\n",
        "#drop the NAs\n",
        "#df = df.dropna()\n",
        "#show the head\n",
        "df_raw_data.head()"
      ]
    },
    {
      "cell_type": "code",
      "execution_count": 3,
      "id": "87130b0a",
      "metadata": {
        "id": "87130b0a",
        "colab": {
          "base_uri": "https://localhost:8080/"
        },
        "outputId": "b0892317-dc1c-4416-f854-b14cf0afd92a"
      },
      "outputs": [
        {
          "output_type": "execute_result",
          "data": {
            "text/plain": [
              "Index(['Disease', 'Symptom_1', 'Symptom_2', 'Symptom_3', 'Symptom_4',\n",
              "       'Symptom_5', 'Symptom_6', 'Symptom_7', 'Symptom_8', 'Symptom_9',\n",
              "       'Symptom_10', 'Symptom_11', 'Symptom_12', 'Symptom_13', 'Symptom_14',\n",
              "       'Symptom_15', 'Symptom_16', 'Symptom_17'],\n",
              "      dtype='object')"
            ]
          },
          "metadata": {},
          "execution_count": 3
        }
      ],
      "source": [
        "cols = df_raw_data.columns\n",
        "cols"
      ]
    },
    {
      "cell_type": "markdown",
      "id": "87de50c3",
      "metadata": {
        "id": "87de50c3"
      },
      "source": [
        "### Distribution of data "
      ]
    },
    {
      "cell_type": "code",
      "execution_count": 4,
      "id": "d8cbddc5",
      "metadata": {
        "colab": {
          "base_uri": "https://localhost:8080/"
        },
        "id": "d8cbddc5",
        "outputId": "986f4976-1bd3-49db-ebdf-08f5fd0be0df"
      },
      "outputs": [
        {
          "output_type": "stream",
          "name": "stdout",
          "text": [
            "<class 'pandas.core.frame.DataFrame'>\n",
            "RangeIndex: 4920 entries, 0 to 4919\n",
            "Data columns (total 18 columns):\n",
            " #   Column      Non-Null Count  Dtype \n",
            "---  ------      --------------  ----- \n",
            " 0   Disease     4920 non-null   object\n",
            " 1   Symptom_1   4920 non-null   object\n",
            " 2   Symptom_2   4920 non-null   object\n",
            " 3   Symptom_3   4920 non-null   object\n",
            " 4   Symptom_4   4572 non-null   object\n",
            " 5   Symptom_5   3714 non-null   object\n",
            " 6   Symptom_6   2934 non-null   object\n",
            " 7   Symptom_7   2268 non-null   object\n",
            " 8   Symptom_8   1944 non-null   object\n",
            " 9   Symptom_9   1692 non-null   object\n",
            " 10  Symptom_10  1512 non-null   object\n",
            " 11  Symptom_11  1194 non-null   object\n",
            " 12  Symptom_12  744 non-null    object\n",
            " 13  Symptom_13  504 non-null    object\n",
            " 14  Symptom_14  306 non-null    object\n",
            " 15  Symptom_15  240 non-null    object\n",
            " 16  Symptom_16  192 non-null    object\n",
            " 17  Symptom_17  72 non-null     object\n",
            "dtypes: object(18)\n",
            "memory usage: 692.0+ KB\n"
          ]
        }
      ],
      "source": [
        "df_raw_data.info()"
      ]
    },
    {
      "cell_type": "code",
      "execution_count": 5,
      "id": "1909e3f2",
      "metadata": {
        "colab": {
          "base_uri": "https://localhost:8080/",
          "height": 614
        },
        "id": "1909e3f2",
        "outputId": "11d8745f-7480-4a4d-a679-4c1a9ddc7526"
      },
      "outputs": [
        {
          "output_type": "execute_result",
          "data": {
            "text/plain": [
              "            Total  Percentage of Missing Values\n",
              "Symptom_17   4848                     98.536585\n",
              "Symptom_16   4728                     96.097561\n",
              "Symptom_15   4680                     95.121951\n",
              "Symptom_14   4614                     93.780488\n",
              "Symptom_13   4416                     89.756098\n",
              "Symptom_12   4176                     84.878049\n",
              "Symptom_11   3726                     75.731707\n",
              "Symptom_10   3408                     69.268293\n",
              "Symptom_9    3228                     65.609756\n",
              "Symptom_8    2976                     60.487805\n",
              "Symptom_7    2652                     53.902439\n",
              "Symptom_6    1986                     40.365854\n",
              "Symptom_5    1206                     24.512195\n",
              "Symptom_4     348                      7.073171\n",
              "Symptom_1       0                      0.000000\n",
              "Symptom_3       0                      0.000000\n",
              "Symptom_2       0                      0.000000\n",
              "Disease         0                      0.000000"
            ],
            "text/html": [
              "\n",
              "  <div id=\"df-8492c697-670e-40c6-b5a2-d8d0b305d41e\">\n",
              "    <div class=\"colab-df-container\">\n",
              "      <div>\n",
              "<style scoped>\n",
              "    .dataframe tbody tr th:only-of-type {\n",
              "        vertical-align: middle;\n",
              "    }\n",
              "\n",
              "    .dataframe tbody tr th {\n",
              "        vertical-align: top;\n",
              "    }\n",
              "\n",
              "    .dataframe thead th {\n",
              "        text-align: right;\n",
              "    }\n",
              "</style>\n",
              "<table border=\"1\" class=\"dataframe\">\n",
              "  <thead>\n",
              "    <tr style=\"text-align: right;\">\n",
              "      <th></th>\n",
              "      <th>Total</th>\n",
              "      <th>Percentage of Missing Values</th>\n",
              "    </tr>\n",
              "  </thead>\n",
              "  <tbody>\n",
              "    <tr>\n",
              "      <th>Symptom_17</th>\n",
              "      <td>4848</td>\n",
              "      <td>98.536585</td>\n",
              "    </tr>\n",
              "    <tr>\n",
              "      <th>Symptom_16</th>\n",
              "      <td>4728</td>\n",
              "      <td>96.097561</td>\n",
              "    </tr>\n",
              "    <tr>\n",
              "      <th>Symptom_15</th>\n",
              "      <td>4680</td>\n",
              "      <td>95.121951</td>\n",
              "    </tr>\n",
              "    <tr>\n",
              "      <th>Symptom_14</th>\n",
              "      <td>4614</td>\n",
              "      <td>93.780488</td>\n",
              "    </tr>\n",
              "    <tr>\n",
              "      <th>Symptom_13</th>\n",
              "      <td>4416</td>\n",
              "      <td>89.756098</td>\n",
              "    </tr>\n",
              "    <tr>\n",
              "      <th>Symptom_12</th>\n",
              "      <td>4176</td>\n",
              "      <td>84.878049</td>\n",
              "    </tr>\n",
              "    <tr>\n",
              "      <th>Symptom_11</th>\n",
              "      <td>3726</td>\n",
              "      <td>75.731707</td>\n",
              "    </tr>\n",
              "    <tr>\n",
              "      <th>Symptom_10</th>\n",
              "      <td>3408</td>\n",
              "      <td>69.268293</td>\n",
              "    </tr>\n",
              "    <tr>\n",
              "      <th>Symptom_9</th>\n",
              "      <td>3228</td>\n",
              "      <td>65.609756</td>\n",
              "    </tr>\n",
              "    <tr>\n",
              "      <th>Symptom_8</th>\n",
              "      <td>2976</td>\n",
              "      <td>60.487805</td>\n",
              "    </tr>\n",
              "    <tr>\n",
              "      <th>Symptom_7</th>\n",
              "      <td>2652</td>\n",
              "      <td>53.902439</td>\n",
              "    </tr>\n",
              "    <tr>\n",
              "      <th>Symptom_6</th>\n",
              "      <td>1986</td>\n",
              "      <td>40.365854</td>\n",
              "    </tr>\n",
              "    <tr>\n",
              "      <th>Symptom_5</th>\n",
              "      <td>1206</td>\n",
              "      <td>24.512195</td>\n",
              "    </tr>\n",
              "    <tr>\n",
              "      <th>Symptom_4</th>\n",
              "      <td>348</td>\n",
              "      <td>7.073171</td>\n",
              "    </tr>\n",
              "    <tr>\n",
              "      <th>Symptom_1</th>\n",
              "      <td>0</td>\n",
              "      <td>0.000000</td>\n",
              "    </tr>\n",
              "    <tr>\n",
              "      <th>Symptom_3</th>\n",
              "      <td>0</td>\n",
              "      <td>0.000000</td>\n",
              "    </tr>\n",
              "    <tr>\n",
              "      <th>Symptom_2</th>\n",
              "      <td>0</td>\n",
              "      <td>0.000000</td>\n",
              "    </tr>\n",
              "    <tr>\n",
              "      <th>Disease</th>\n",
              "      <td>0</td>\n",
              "      <td>0.000000</td>\n",
              "    </tr>\n",
              "  </tbody>\n",
              "</table>\n",
              "</div>\n",
              "      <button class=\"colab-df-convert\" onclick=\"convertToInteractive('df-8492c697-670e-40c6-b5a2-d8d0b305d41e')\"\n",
              "              title=\"Convert this dataframe to an interactive table.\"\n",
              "              style=\"display:none;\">\n",
              "        \n",
              "  <svg xmlns=\"http://www.w3.org/2000/svg\" height=\"24px\"viewBox=\"0 0 24 24\"\n",
              "       width=\"24px\">\n",
              "    <path d=\"M0 0h24v24H0V0z\" fill=\"none\"/>\n",
              "    <path d=\"M18.56 5.44l.94 2.06.94-2.06 2.06-.94-2.06-.94-.94-2.06-.94 2.06-2.06.94zm-11 1L8.5 8.5l.94-2.06 2.06-.94-2.06-.94L8.5 2.5l-.94 2.06-2.06.94zm10 10l.94 2.06.94-2.06 2.06-.94-2.06-.94-.94-2.06-.94 2.06-2.06.94z\"/><path d=\"M17.41 7.96l-1.37-1.37c-.4-.4-.92-.59-1.43-.59-.52 0-1.04.2-1.43.59L10.3 9.45l-7.72 7.72c-.78.78-.78 2.05 0 2.83L4 21.41c.39.39.9.59 1.41.59.51 0 1.02-.2 1.41-.59l7.78-7.78 2.81-2.81c.8-.78.8-2.07 0-2.86zM5.41 20L4 18.59l7.72-7.72 1.47 1.35L5.41 20z\"/>\n",
              "  </svg>\n",
              "      </button>\n",
              "      \n",
              "  <style>\n",
              "    .colab-df-container {\n",
              "      display:flex;\n",
              "      flex-wrap:wrap;\n",
              "      gap: 12px;\n",
              "    }\n",
              "\n",
              "    .colab-df-convert {\n",
              "      background-color: #E8F0FE;\n",
              "      border: none;\n",
              "      border-radius: 50%;\n",
              "      cursor: pointer;\n",
              "      display: none;\n",
              "      fill: #1967D2;\n",
              "      height: 32px;\n",
              "      padding: 0 0 0 0;\n",
              "      width: 32px;\n",
              "    }\n",
              "\n",
              "    .colab-df-convert:hover {\n",
              "      background-color: #E2EBFA;\n",
              "      box-shadow: 0px 1px 2px rgba(60, 64, 67, 0.3), 0px 1px 3px 1px rgba(60, 64, 67, 0.15);\n",
              "      fill: #174EA6;\n",
              "    }\n",
              "\n",
              "    [theme=dark] .colab-df-convert {\n",
              "      background-color: #3B4455;\n",
              "      fill: #D2E3FC;\n",
              "    }\n",
              "\n",
              "    [theme=dark] .colab-df-convert:hover {\n",
              "      background-color: #434B5C;\n",
              "      box-shadow: 0px 1px 3px 1px rgba(0, 0, 0, 0.15);\n",
              "      filter: drop-shadow(0px 1px 2px rgba(0, 0, 0, 0.3));\n",
              "      fill: #FFFFFF;\n",
              "    }\n",
              "  </style>\n",
              "\n",
              "      <script>\n",
              "        const buttonEl =\n",
              "          document.querySelector('#df-8492c697-670e-40c6-b5a2-d8d0b305d41e button.colab-df-convert');\n",
              "        buttonEl.style.display =\n",
              "          google.colab.kernel.accessAllowed ? 'block' : 'none';\n",
              "\n",
              "        async function convertToInteractive(key) {\n",
              "          const element = document.querySelector('#df-8492c697-670e-40c6-b5a2-d8d0b305d41e');\n",
              "          const dataTable =\n",
              "            await google.colab.kernel.invokeFunction('convertToInteractive',\n",
              "                                                     [key], {});\n",
              "          if (!dataTable) return;\n",
              "\n",
              "          const docLinkHtml = 'Like what you see? Visit the ' +\n",
              "            '<a target=\"_blank\" href=https://colab.research.google.com/notebooks/data_table.ipynb>data table notebook</a>'\n",
              "            + ' to learn more about interactive tables.';\n",
              "          element.innerHTML = '';\n",
              "          dataTable['output_type'] = 'display_data';\n",
              "          await google.colab.output.renderOutput(dataTable, element);\n",
              "          const docLink = document.createElement('div');\n",
              "          docLink.innerHTML = docLinkHtml;\n",
              "          element.appendChild(docLink);\n",
              "        }\n",
              "      </script>\n",
              "    </div>\n",
              "  </div>\n",
              "  "
            ]
          },
          "metadata": {},
          "execution_count": 5
        }
      ],
      "source": [
        "#Let's check the null values \n",
        "number_of_missing_values = df_raw_data.isna().sum().sort_values(ascending=False)          \n",
        "percentage_of_missing_values = (df_raw_data.isna().sum()*100/df_raw_data.isna().count() ).sort_values(ascending=False)   \n",
        "missing_data = pd.concat([number_of_missing_values,percentage_of_missing_values], axis = 1, keys = ['Total', 'Percentage of Missing Values'])    \n",
        "missing_data"
      ]
    },
    {
      "cell_type": "code",
      "execution_count": 6,
      "id": "c24c9072",
      "metadata": {
        "colab": {
          "base_uri": "https://localhost:8080/",
          "height": 424
        },
        "id": "c24c9072",
        "outputId": "60720a09-0e89-4f14-dfb8-721eb3bbe56f"
      },
      "outputs": [
        {
          "output_type": "execute_result",
          "data": {
            "text/plain": [
              "                                      Disease             Symptom_1  \\\n",
              "0                            Fungal infection               itching   \n",
              "1                            Fungal infection             skin_rash   \n",
              "2                            Fungal infection               itching   \n",
              "3                            Fungal infection               itching   \n",
              "4                            Fungal infection               itching   \n",
              "...                                       ...                   ...   \n",
              "4915  (vertigo) Paroymsal  Positional Vertigo              vomiting   \n",
              "4916                                     Acne             skin_rash   \n",
              "4917                  Urinary tract infection   burning_micturition   \n",
              "4918                                Psoriasis             skin_rash   \n",
              "4919                                 Impetigo             skin_rash   \n",
              "\n",
              "                  Symptom_2              Symptom_3  \n",
              "0                 skin_rash   nodal_skin_eruptions  \n",
              "1      nodal_skin_eruptions    dischromic _patches  \n",
              "2      nodal_skin_eruptions    dischromic _patches  \n",
              "3                 skin_rash    dischromic _patches  \n",
              "4                 skin_rash   nodal_skin_eruptions  \n",
              "...                     ...                    ...  \n",
              "4915               headache                 nausea  \n",
              "4916     pus_filled_pimples             blackheads  \n",
              "4917     bladder_discomfort    foul_smell_of urine  \n",
              "4918             joint_pain           skin_peeling  \n",
              "4919             high_fever                blister  \n",
              "\n",
              "[4920 rows x 4 columns]"
            ],
            "text/html": [
              "\n",
              "  <div id=\"df-ad6c12f3-2cd5-462f-aa5f-9920ced12b15\">\n",
              "    <div class=\"colab-df-container\">\n",
              "      <div>\n",
              "<style scoped>\n",
              "    .dataframe tbody tr th:only-of-type {\n",
              "        vertical-align: middle;\n",
              "    }\n",
              "\n",
              "    .dataframe tbody tr th {\n",
              "        vertical-align: top;\n",
              "    }\n",
              "\n",
              "    .dataframe thead th {\n",
              "        text-align: right;\n",
              "    }\n",
              "</style>\n",
              "<table border=\"1\" class=\"dataframe\">\n",
              "  <thead>\n",
              "    <tr style=\"text-align: right;\">\n",
              "      <th></th>\n",
              "      <th>Disease</th>\n",
              "      <th>Symptom_1</th>\n",
              "      <th>Symptom_2</th>\n",
              "      <th>Symptom_3</th>\n",
              "    </tr>\n",
              "  </thead>\n",
              "  <tbody>\n",
              "    <tr>\n",
              "      <th>0</th>\n",
              "      <td>Fungal infection</td>\n",
              "      <td>itching</td>\n",
              "      <td>skin_rash</td>\n",
              "      <td>nodal_skin_eruptions</td>\n",
              "    </tr>\n",
              "    <tr>\n",
              "      <th>1</th>\n",
              "      <td>Fungal infection</td>\n",
              "      <td>skin_rash</td>\n",
              "      <td>nodal_skin_eruptions</td>\n",
              "      <td>dischromic _patches</td>\n",
              "    </tr>\n",
              "    <tr>\n",
              "      <th>2</th>\n",
              "      <td>Fungal infection</td>\n",
              "      <td>itching</td>\n",
              "      <td>nodal_skin_eruptions</td>\n",
              "      <td>dischromic _patches</td>\n",
              "    </tr>\n",
              "    <tr>\n",
              "      <th>3</th>\n",
              "      <td>Fungal infection</td>\n",
              "      <td>itching</td>\n",
              "      <td>skin_rash</td>\n",
              "      <td>dischromic _patches</td>\n",
              "    </tr>\n",
              "    <tr>\n",
              "      <th>4</th>\n",
              "      <td>Fungal infection</td>\n",
              "      <td>itching</td>\n",
              "      <td>skin_rash</td>\n",
              "      <td>nodal_skin_eruptions</td>\n",
              "    </tr>\n",
              "    <tr>\n",
              "      <th>...</th>\n",
              "      <td>...</td>\n",
              "      <td>...</td>\n",
              "      <td>...</td>\n",
              "      <td>...</td>\n",
              "    </tr>\n",
              "    <tr>\n",
              "      <th>4915</th>\n",
              "      <td>(vertigo) Paroymsal  Positional Vertigo</td>\n",
              "      <td>vomiting</td>\n",
              "      <td>headache</td>\n",
              "      <td>nausea</td>\n",
              "    </tr>\n",
              "    <tr>\n",
              "      <th>4916</th>\n",
              "      <td>Acne</td>\n",
              "      <td>skin_rash</td>\n",
              "      <td>pus_filled_pimples</td>\n",
              "      <td>blackheads</td>\n",
              "    </tr>\n",
              "    <tr>\n",
              "      <th>4917</th>\n",
              "      <td>Urinary tract infection</td>\n",
              "      <td>burning_micturition</td>\n",
              "      <td>bladder_discomfort</td>\n",
              "      <td>foul_smell_of urine</td>\n",
              "    </tr>\n",
              "    <tr>\n",
              "      <th>4918</th>\n",
              "      <td>Psoriasis</td>\n",
              "      <td>skin_rash</td>\n",
              "      <td>joint_pain</td>\n",
              "      <td>skin_peeling</td>\n",
              "    </tr>\n",
              "    <tr>\n",
              "      <th>4919</th>\n",
              "      <td>Impetigo</td>\n",
              "      <td>skin_rash</td>\n",
              "      <td>high_fever</td>\n",
              "      <td>blister</td>\n",
              "    </tr>\n",
              "  </tbody>\n",
              "</table>\n",
              "<p>4920 rows × 4 columns</p>\n",
              "</div>\n",
              "      <button class=\"colab-df-convert\" onclick=\"convertToInteractive('df-ad6c12f3-2cd5-462f-aa5f-9920ced12b15')\"\n",
              "              title=\"Convert this dataframe to an interactive table.\"\n",
              "              style=\"display:none;\">\n",
              "        \n",
              "  <svg xmlns=\"http://www.w3.org/2000/svg\" height=\"24px\"viewBox=\"0 0 24 24\"\n",
              "       width=\"24px\">\n",
              "    <path d=\"M0 0h24v24H0V0z\" fill=\"none\"/>\n",
              "    <path d=\"M18.56 5.44l.94 2.06.94-2.06 2.06-.94-2.06-.94-.94-2.06-.94 2.06-2.06.94zm-11 1L8.5 8.5l.94-2.06 2.06-.94-2.06-.94L8.5 2.5l-.94 2.06-2.06.94zm10 10l.94 2.06.94-2.06 2.06-.94-2.06-.94-.94-2.06-.94 2.06-2.06.94z\"/><path d=\"M17.41 7.96l-1.37-1.37c-.4-.4-.92-.59-1.43-.59-.52 0-1.04.2-1.43.59L10.3 9.45l-7.72 7.72c-.78.78-.78 2.05 0 2.83L4 21.41c.39.39.9.59 1.41.59.51 0 1.02-.2 1.41-.59l7.78-7.78 2.81-2.81c.8-.78.8-2.07 0-2.86zM5.41 20L4 18.59l7.72-7.72 1.47 1.35L5.41 20z\"/>\n",
              "  </svg>\n",
              "      </button>\n",
              "      \n",
              "  <style>\n",
              "    .colab-df-container {\n",
              "      display:flex;\n",
              "      flex-wrap:wrap;\n",
              "      gap: 12px;\n",
              "    }\n",
              "\n",
              "    .colab-df-convert {\n",
              "      background-color: #E8F0FE;\n",
              "      border: none;\n",
              "      border-radius: 50%;\n",
              "      cursor: pointer;\n",
              "      display: none;\n",
              "      fill: #1967D2;\n",
              "      height: 32px;\n",
              "      padding: 0 0 0 0;\n",
              "      width: 32px;\n",
              "    }\n",
              "\n",
              "    .colab-df-convert:hover {\n",
              "      background-color: #E2EBFA;\n",
              "      box-shadow: 0px 1px 2px rgba(60, 64, 67, 0.3), 0px 1px 3px 1px rgba(60, 64, 67, 0.15);\n",
              "      fill: #174EA6;\n",
              "    }\n",
              "\n",
              "    [theme=dark] .colab-df-convert {\n",
              "      background-color: #3B4455;\n",
              "      fill: #D2E3FC;\n",
              "    }\n",
              "\n",
              "    [theme=dark] .colab-df-convert:hover {\n",
              "      background-color: #434B5C;\n",
              "      box-shadow: 0px 1px 3px 1px rgba(0, 0, 0, 0.15);\n",
              "      filter: drop-shadow(0px 1px 2px rgba(0, 0, 0, 0.3));\n",
              "      fill: #FFFFFF;\n",
              "    }\n",
              "  </style>\n",
              "\n",
              "      <script>\n",
              "        const buttonEl =\n",
              "          document.querySelector('#df-ad6c12f3-2cd5-462f-aa5f-9920ced12b15 button.colab-df-convert');\n",
              "        buttonEl.style.display =\n",
              "          google.colab.kernel.accessAllowed ? 'block' : 'none';\n",
              "\n",
              "        async function convertToInteractive(key) {\n",
              "          const element = document.querySelector('#df-ad6c12f3-2cd5-462f-aa5f-9920ced12b15');\n",
              "          const dataTable =\n",
              "            await google.colab.kernel.invokeFunction('convertToInteractive',\n",
              "                                                     [key], {});\n",
              "          if (!dataTable) return;\n",
              "\n",
              "          const docLinkHtml = 'Like what you see? Visit the ' +\n",
              "            '<a target=\"_blank\" href=https://colab.research.google.com/notebooks/data_table.ipynb>data table notebook</a>'\n",
              "            + ' to learn more about interactive tables.';\n",
              "          element.innerHTML = '';\n",
              "          dataTable['output_type'] = 'display_data';\n",
              "          await google.colab.output.renderOutput(dataTable, element);\n",
              "          const docLink = document.createElement('div');\n",
              "          docLink.innerHTML = docLinkHtml;\n",
              "          element.appendChild(docLink);\n",
              "        }\n",
              "      </script>\n",
              "    </div>\n",
              "  </div>\n",
              "  "
            ]
          },
          "metadata": {},
          "execution_count": 6
        }
      ],
      "source": [
        "df_symptoms = df_raw_data.loc[:,['Disease','Symptom_1', 'Symptom_2', 'Symptom_3']]\n",
        "df_symptoms"
      ]
    },
    {
      "cell_type": "markdown",
      "id": "13851fd3",
      "metadata": {
        "id": "13851fd3"
      },
      "source": [
        "### Univariate Analysis of Disease"
      ]
    },
    {
      "cell_type": "code",
      "execution_count": 7,
      "id": "ba7a65bc",
      "metadata": {
        "colab": {
          "base_uri": "https://localhost:8080/",
          "height": 1000
        },
        "id": "ba7a65bc",
        "outputId": "028d803b-9b3a-4366-c065-fcde25335ce6"
      },
      "outputs": [
        {
          "output_type": "stream",
          "name": "stdout",
          "text": [
            "univariate analysis of Disease\n",
            "-----------------------------------\n",
            "Fungal infection                           120\n",
            "Hepatitis C                                120\n",
            "Hepatitis E                                120\n",
            "Alcoholic hepatitis                        120\n",
            "Tuberculosis                               120\n",
            "Common Cold                                120\n",
            "Pneumonia                                  120\n",
            "Dimorphic hemmorhoids(piles)               120\n",
            "Heart attack                               120\n",
            "Varicose veins                             120\n",
            "Hypothyroidism                             120\n",
            "Hyperthyroidism                            120\n",
            "Hypoglycemia                               120\n",
            "Osteoarthristis                            120\n",
            "Arthritis                                  120\n",
            "(vertigo) Paroymsal  Positional Vertigo    120\n",
            "Acne                                       120\n",
            "Urinary tract infection                    120\n",
            "Psoriasis                                  120\n",
            "Hepatitis D                                120\n",
            "Hepatitis B                                120\n",
            "Allergy                                    120\n",
            "hepatitis A                                120\n",
            "GERD                                       120\n",
            "Chronic cholestasis                        120\n",
            "Drug Reaction                              120\n",
            "Peptic ulcer diseae                        120\n",
            "AIDS                                       120\n",
            "Diabetes                                   120\n",
            "Gastroenteritis                            120\n",
            "Bronchial Asthma                           120\n",
            "Hypertension                               120\n",
            "Migraine                                   120\n",
            "Cervical spondylosis                       120\n",
            "Paralysis (brain hemorrhage)               120\n",
            "Jaundice                                   120\n",
            "Malaria                                    120\n",
            "Chicken pox                                120\n",
            "Dengue                                     120\n",
            "Typhoid                                    120\n",
            "Impetigo                                   120\n",
            "Name: Disease, dtype: int64\n"
          ]
        },
        {
          "output_type": "display_data",
          "data": {
            "text/plain": [
              "<Figure size 864x432 with 1 Axes>"
            ],
            "image/png": "[encoded data removed]"
          },
          "metadata": {
            "needs_background": "light"
          }
        }
      ],
      "source": [
        "print('univariate analysis of Disease')\n",
        "print('-----------------------------------')\n",
        "print(df_symptoms['Disease'].value_counts())\n",
        "plt.rcParams['figure.figsize']=(12,6)\n",
        "df_symptoms['Disease'].value_counts().plot(kind='bar',color='b')\n",
        "plt.title('Pictorial Analysis of Disease')\n",
        "plt.xlabel('Disease')\n",
        "plt.ylabel('Count of Disease')\n",
        "plt.show()"
      ]
    },
    {
      "cell_type": "markdown",
      "id": "b98d6927",
      "metadata": {
        "id": "b98d6927"
      },
      "source": [
        "#### All diseases are present in an equal number"
      ]
    },
    {
      "cell_type": "markdown",
      "id": "a5c40cd3",
      "metadata": {
        "id": "a5c40cd3"
      },
      "source": [
        "### Distribution of symptoms"
      ]
    },
    {
      "cell_type": "code",
      "execution_count": 8,
      "id": "81067448",
      "metadata": {
        "colab": {
          "base_uri": "https://localhost:8080/",
          "height": 1000
        },
        "id": "81067448",
        "outputId": "7aa75b48-f209-4746-88ab-74e5965fcb9a"
      },
      "outputs": [
        {
          "output_type": "stream",
          "name": "stdout",
          "text": [
            "univariate analysis of Symptom_1\n",
            "-----------------------------------\n",
            " vomiting                       822\n",
            " fatigue                        690\n",
            "itching                         678\n",
            " skin_rash                      480\n",
            " chills                         474\n",
            " joint_pain                     462\n",
            " continuous_sneezing            222\n",
            " headache                       126\n",
            " acidity                        120\n",
            " stomach_pain                   114\n",
            " constipation                   114\n",
            " muscle_weakness                114\n",
            " burning_micturition            108\n",
            " muscle_wasting                 108\n",
            " back_pain                      108\n",
            " bladder_discomfort              12\n",
            " weight_gain                     12\n",
            " breathlessness                  12\n",
            " yellowish_skin                  12\n",
            " weakness_in_limbs               12\n",
            " chest_pain                      12\n",
            " cough                           12\n",
            " sunken_eyes                     12\n",
            " patches_in_throat               12\n",
            " indigestion                     12\n",
            " shivering                       12\n",
            " pain_during_bowel_movements      6\n",
            " cramps                           6\n",
            " weight_loss                      6\n",
            " mood_swings                      6\n",
            " neck_pain                        6\n",
            " stiff_neck                       6\n",
            " pus_filled_pimples               6\n",
            " high_fever                       6\n",
            "Name: Symptom_1, dtype: int64\n"
          ]
        },
        {
          "output_type": "display_data",
          "data": {
            "text/plain": [
              "<Figure size 864x432 with 1 Axes>"
            ],
            "image/png": "[encoded data removed]"
          },
          "metadata": {
            "needs_background": "light"
          }
        }
      ],
      "source": [
        "print('univariate analysis of Symptom_1')\n",
        "print('-----------------------------------')\n",
        "print(df_symptoms['Symptom_1'].value_counts())\n",
        "plt.rcParams['figure.figsize']=(12,6)\n",
        "df_symptoms['Symptom_1'].value_counts().plot(kind='bar',color='b')\n",
        "plt.title('Pictorial Analysis of Symptom_1')\n",
        "plt.xlabel('Symptom_1')\n",
        "plt.ylabel('Count of Symptom_1')\n",
        "plt.show()"
      ]
    },
    {
      "cell_type": "markdown",
      "id": "d789beec",
      "metadata": {
        "id": "d789beec"
      },
      "source": [
        "#### The most common diseases are vomiting, fatigue, itching, skin rash, chills, joint_pain."
      ]
    },
    {
      "cell_type": "code",
      "execution_count": 9,
      "id": "d873f2b4",
      "metadata": {
        "scrolled": true,
        "colab": {
          "base_uri": "https://localhost:8080/",
          "height": 1000
        },
        "id": "d873f2b4",
        "outputId": "224c5860-6247-449d-b8d9-e235b4e0c4c6"
      },
      "outputs": [
        {
          "output_type": "stream",
          "name": "stdout",
          "text": [
            "univariate analysis of Symptom_2\n",
            "-----------------------------------\n",
            " vomiting                       870\n",
            " fatigue                        402\n",
            " skin_rash                      306\n",
            " chills                         240\n",
            " yellowish_skin                 240\n",
            " headache                       216\n",
            " indigestion                    210\n",
            " high_fever                     156\n",
            " neck_pain                      132\n",
            " weight_loss                    120\n",
            " joint_pain                     120\n",
            " pain_during_bowel_movements    108\n",
            " stiff_neck                     108\n",
            " mood_swings                    108\n",
            " cough                          108\n",
            " cramps                         108\n",
            " acidity                        102\n",
            " bladder_discomfort             102\n",
            " pus_filled_pimples             102\n",
            " weight_gain                    102\n",
            " breathlessness                  96\n",
            " patches_in_throat               96\n",
            " chest_pain                      96\n",
            " shivering                       96\n",
            " sunken_eyes                     96\n",
            " weakness_in_limbs               96\n",
            " dehydration                     24\n",
            " weakness_of_one_body_side       24\n",
            " dizziness                       24\n",
            " sweating                        24\n",
            " blister                         24\n",
            " nausea                          24\n",
            " nodal_skin_eruptions            24\n",
            " ulcers_on_tongue                18\n",
            " foul_smell_of urine             18\n",
            " cold_hands_and_feets            18\n",
            " stomach_pain                    18\n",
            " blackheads                      18\n",
            " loss_of_appetite                18\n",
            " restlessness                    12\n",
            " skin_peeling                    12\n",
            " pain_in_anal_region             12\n",
            " swelling_joints                 12\n",
            " anxiety                         12\n",
            " lethargy                        12\n",
            " bruising                        12\n",
            " abdominal_pain                  12\n",
            " knee_pain                       12\n",
            "Name: Symptom_2, dtype: int64\n"
          ]
        },
        {
          "output_type": "display_data",
          "data": {
            "text/plain": [
              "<Figure size 864x432 with 1 Axes>"
            ],
            "image/png": "[encoded data removed]"
          },
          "metadata": {
            "needs_background": "light"
          }
        }
      ],
      "source": [
        "print('univariate analysis of Symptom_2')\n",
        "print('-----------------------------------')\n",
        "print(df_symptoms['Symptom_2'].value_counts())\n",
        "plt.rcParams['figure.figsize']=(12,6)\n",
        "df_symptoms['Symptom_2'].value_counts().plot(kind='bar',color='b')\n",
        "plt.title('Pictorial Analysis of Symptom_2')\n",
        "plt.xlabel('Symptom_2')\n",
        "plt.ylabel('Count of Symptom_2')\n",
        "plt.show()"
      ]
    },
    {
      "cell_type": "markdown",
      "id": "88e9c321",
      "metadata": {
        "id": "88e9c321"
      },
      "source": [
        "#### Top 5 symptoms appearing as secondary symptoms vomiting, fatiguq,skin_rash, chills, yellow skin"
      ]
    },
    {
      "cell_type": "markdown",
      "id": "dbd2844a",
      "metadata": {
        "id": "dbd2844a"
      },
      "source": [
        "### Let's analyze the common cold disease"
      ]
    },
    {
      "cell_type": "code",
      "execution_count": 10,
      "id": "d26820bf",
      "metadata": {
        "id": "d26820bf"
      },
      "outputs": [],
      "source": [
        "#store the common cold data \n",
        "df_cold = df_symptoms[df_symptoms['Disease']=='Common Cold']"
      ]
    },
    {
      "cell_type": "code",
      "execution_count": 11,
      "id": "24a7c5e1",
      "metadata": {
        "colab": {
          "base_uri": "https://localhost:8080/",
          "height": 590
        },
        "id": "24a7c5e1",
        "outputId": "36540d44-0958-4157-ea49-6fc5ffcd43be"
      },
      "outputs": [
        {
          "output_type": "display_data",
          "data": {
            "text/plain": [
              "<Figure size 864x432 with 1 Axes>"
            ],
            "image/png": "[encoded data removed]"
          },
          "metadata": {
            "needs_background": "light"
          }
        },
        {
          "output_type": "stream",
          "name": "stdout",
          "text": [
            " continuous_sneezing    114\n",
            " chills                   6\n",
            "Name: Symptom_1, dtype: int64\n",
            "-----------------------------------\n",
            "List the Symptom_1 in common cold\n"
          ]
        }
      ],
      "source": [
        "\n",
        "plt.rcParams['figure.figsize']=(12,6)\n",
        "df_cold['Symptom_1'].value_counts().plot(kind='bar',color='b')\n",
        "plt.title('Pictorial Analysis of Symptom_1   mmon cold')\n",
        "plt.xlabel('Symptom_1')\n",
        "plt.ylabel('Count of Symptom_1 in common cold')\n",
        "plt.show()\n",
        "\n",
        "print(df_cold['Symptom_1'].value_counts())\n",
        "print('-----------------------------------')\n",
        "\n",
        "print('List the Symptom_1 in common cold')"
      ]
    },
    {
      "cell_type": "code",
      "execution_count": 12,
      "id": "e4157da9",
      "metadata": {
        "colab": {
          "base_uri": "https://localhost:8080/",
          "height": 520
        },
        "id": "e4157da9",
        "outputId": "51d66ff2-7105-4b1f-ed97-97e5df158d15"
      },
      "outputs": [
        {
          "output_type": "display_data",
          "data": {
            "text/plain": [
              "<Figure size 864x432 with 1 Axes>"
            ],
            "image/png": "[encoded data removed]"
          },
          "metadata": {
            "needs_background": "light"
          }
        },
        {
          "output_type": "stream",
          "name": "stdout",
          "text": [
            "List the Symptom_2 in common cold\n",
            "-----------------------------------\n",
            " chills     108\n",
            " fatigue     12\n",
            "Name: Symptom_2, dtype: int64\n"
          ]
        }
      ],
      "source": [
        "\n",
        "plt.rcParams['figure.figsize']=(12,6)\n",
        "df_cold['Symptom_2'].value_counts().plot(kind='bar',color='b')\n",
        "plt.title('Pictorial Analysis of Symptom_2 in common cold')\n",
        "plt.xlabel('Symptom_2')\n",
        "plt.ylabel('Count of Symptom_2 in common cold')\n",
        "plt.show()\n",
        "print('List the Symptom_2 in common cold')\n",
        "print('-----------------------------------')\n",
        "\n",
        "print(df_cold['Symptom_2'].value_counts())"
      ]
    },
    {
      "cell_type": "code",
      "execution_count": 13,
      "id": "9273eb94",
      "metadata": {
        "colab": {
          "base_uri": "https://localhost:8080/",
          "height": 520
        },
        "id": "9273eb94",
        "outputId": "59683df7-c34a-463a-b68a-485a1d7cc301"
      },
      "outputs": [
        {
          "output_type": "display_data",
          "data": {
            "text/plain": [
              "<Figure size 864x432 with 1 Axes>"
            ],
            "image/png": "[encoded data removed]"
          },
          "metadata": {
            "needs_background": "light"
          }
        },
        {
          "output_type": "stream",
          "name": "stdout",
          "text": [
            "List the Symptom_3 in common cold\n",
            "-----------------------------------\n",
            " fatigue    102\n",
            " cough       18\n",
            "Name: Symptom_3, dtype: int64\n"
          ]
        }
      ],
      "source": [
        "\n",
        "plt.rcParams['figure.figsize']=(12,6)\n",
        "df_cold['Symptom_3'].value_counts().plot(kind='bar',color='b')\n",
        "plt.title('Pictorial Analysis of Symptom_3 in common cold')\n",
        "plt.xlabel('Symptom_3')\n",
        "plt.ylabel('Count of Symptom_3 in common cold')\n",
        "plt.show()\n",
        "\n",
        "print('List the Symptom_3 in common cold')\n",
        "print('-----------------------------------')\n",
        "print(df_cold['Symptom_3'].value_counts())"
      ]
    },
    {
      "cell_type": "markdown",
      "id": "509ef19b",
      "metadata": {
        "id": "509ef19b"
      },
      "source": [
        "### Let's analyze another disease Hypertension"
      ]
    },
    {
      "cell_type": "code",
      "execution_count": 14,
      "id": "1c1a2402",
      "metadata": {
        "colab": {
          "base_uri": "https://localhost:8080/",
          "height": 424
        },
        "id": "1c1a2402",
        "outputId": "03f3ce3b-998e-4d93-d582-736d689e923b"
      },
      "outputs": [
        {
          "output_type": "execute_result",
          "data": {
            "text/plain": [
              "            Disease    Symptom_1    Symptom_2         Symptom_3\n",
              "100   Hypertension      headache   chest_pain         dizziness\n",
              "101   Hypertension    chest_pain    dizziness   loss_of_balance\n",
              "102   Hypertension      headache    dizziness   loss_of_balance\n",
              "103   Hypertension      headache   chest_pain   loss_of_balance\n",
              "104   Hypertension      headache   chest_pain         dizziness\n",
              "...             ...          ...          ...               ...\n",
              "4725  Hypertension      headache   chest_pain         dizziness\n",
              "4766  Hypertension      headache   chest_pain         dizziness\n",
              "4807  Hypertension      headache   chest_pain         dizziness\n",
              "4848  Hypertension      headache   chest_pain         dizziness\n",
              "4889  Hypertension      headache   chest_pain         dizziness\n",
              "\n",
              "[120 rows x 4 columns]"
            ],
            "text/html": [
              "\n",
              "  <div id=\"df-3562cb11-29fb-4292-9c3e-d266833259e2\">\n",
              "    <div class=\"colab-df-container\">\n",
              "      <div>\n",
              "<style scoped>\n",
              "    .dataframe tbody tr th:only-of-type {\n",
              "        vertical-align: middle;\n",
              "    }\n",
              "\n",
              "    .dataframe tbody tr th {\n",
              "        vertical-align: top;\n",
              "    }\n",
              "\n",
              "    .dataframe thead th {\n",
              "        text-align: right;\n",
              "    }\n",
              "</style>\n",
              "<table border=\"1\" class=\"dataframe\">\n",
              "  <thead>\n",
              "    <tr style=\"text-align: right;\">\n",
              "      <th></th>\n",
              "      <th>Disease</th>\n",
              "      <th>Symptom_1</th>\n",
              "      <th>Symptom_2</th>\n",
              "      <th>Symptom_3</th>\n",
              "    </tr>\n",
              "  </thead>\n",
              "  <tbody>\n",
              "    <tr>\n",
              "      <th>100</th>\n",
              "      <td>Hypertension</td>\n",
              "      <td>headache</td>\n",
              "      <td>chest_pain</td>\n",
              "      <td>dizziness</td>\n",
              "    </tr>\n",
              "    <tr>\n",
              "      <th>101</th>\n",
              "      <td>Hypertension</td>\n",
              "      <td>chest_pain</td>\n",
              "      <td>dizziness</td>\n",
              "      <td>loss_of_balance</td>\n",
              "    </tr>\n",
              "    <tr>\n",
              "      <th>102</th>\n",
              "      <td>Hypertension</td>\n",
              "      <td>headache</td>\n",
              "      <td>dizziness</td>\n",
              "      <td>loss_of_balance</td>\n",
              "    </tr>\n",
              "    <tr>\n",
              "      <th>103</th>\n",
              "      <td>Hypertension</td>\n",
              "      <td>headache</td>\n",
              "      <td>chest_pain</td>\n",
              "      <td>loss_of_balance</td>\n",
              "    </tr>\n",
              "    <tr>\n",
              "      <th>104</th>\n",
              "      <td>Hypertension</td>\n",
              "      <td>headache</td>\n",
              "      <td>chest_pain</td>\n",
              "      <td>dizziness</td>\n",
              "    </tr>\n",
              "    <tr>\n",
              "      <th>...</th>\n",
              "      <td>...</td>\n",
              "      <td>...</td>\n",
              "      <td>...</td>\n",
              "      <td>...</td>\n",
              "    </tr>\n",
              "    <tr>\n",
              "      <th>4725</th>\n",
              "      <td>Hypertension</td>\n",
              "      <td>headache</td>\n",
              "      <td>chest_pain</td>\n",
              "      <td>dizziness</td>\n",
              "    </tr>\n",
              "    <tr>\n",
              "      <th>4766</th>\n",
              "      <td>Hypertension</td>\n",
              "      <td>headache</td>\n",
              "      <td>chest_pain</td>\n",
              "      <td>dizziness</td>\n",
              "    </tr>\n",
              "    <tr>\n",
              "      <th>4807</th>\n",
              "      <td>Hypertension</td>\n",
              "      <td>headache</td>\n",
              "      <td>chest_pain</td>\n",
              "      <td>dizziness</td>\n",
              "    </tr>\n",
              "    <tr>\n",
              "      <th>4848</th>\n",
              "      <td>Hypertension</td>\n",
              "      <td>headache</td>\n",
              "      <td>chest_pain</td>\n",
              "      <td>dizziness</td>\n",
              "    </tr>\n",
              "    <tr>\n",
              "      <th>4889</th>\n",
              "      <td>Hypertension</td>\n",
              "      <td>headache</td>\n",
              "      <td>chest_pain</td>\n",
              "      <td>dizziness</td>\n",
              "    </tr>\n",
              "  </tbody>\n",
              "</table>\n",
              "<p>120 rows × 4 columns</p>\n",
              "</div>\n",
              "      <button class=\"colab-df-convert\" onclick=\"convertToInteractive('df-3562cb11-29fb-4292-9c3e-d266833259e2')\"\n",
              "              title=\"Convert this dataframe to an interactive table.\"\n",
              "              style=\"display:none;\">\n",
              "        \n",
              "  <svg xmlns=\"http://www.w3.org/2000/svg\" height=\"24px\"viewBox=\"0 0 24 24\"\n",
              "       width=\"24px\">\n",
              "    <path d=\"M0 0h24v24H0V0z\" fill=\"none\"/>\n",
              "    <path d=\"M18.56 5.44l.94 2.06.94-2.06 2.06-.94-2.06-.94-.94-2.06-.94 2.06-2.06.94zm-11 1L8.5 8.5l.94-2.06 2.06-.94-2.06-.94L8.5 2.5l-.94 2.06-2.06.94zm10 10l.94 2.06.94-2.06 2.06-.94-2.06-.94-.94-2.06-.94 2.06-2.06.94z\"/><path d=\"M17.41 7.96l-1.37-1.37c-.4-.4-.92-.59-1.43-.59-.52 0-1.04.2-1.43.59L10.3 9.45l-7.72 7.72c-.78.78-.78 2.05 0 2.83L4 21.41c.39.39.9.59 1.41.59.51 0 1.02-.2 1.41-.59l7.78-7.78 2.81-2.81c.8-.78.8-2.07 0-2.86zM5.41 20L4 18.59l7.72-7.72 1.47 1.35L5.41 20z\"/>\n",
              "  </svg>\n",
              "      </button>\n",
              "      \n",
              "  <style>\n",
              "    .colab-df-container {\n",
              "      display:flex;\n",
              "      flex-wrap:wrap;\n",
              "      gap: 12px;\n",
              "    }\n",
              "\n",
              "    .colab-df-convert {\n",
              "      background-color: #E8F0FE;\n",
              "      border: none;\n",
              "      border-radius: 50%;\n",
              "      cursor: pointer;\n",
              "      display: none;\n",
              "      fill: #1967D2;\n",
              "      height: 32px;\n",
              "      padding: 0 0 0 0;\n",
              "      width: 32px;\n",
              "    }\n",
              "\n",
              "    .colab-df-convert:hover {\n",
              "      background-color: #E2EBFA;\n",
              "      box-shadow: 0px 1px 2px rgba(60, 64, 67, 0.3), 0px 1px 3px 1px rgba(60, 64, 67, 0.15);\n",
              "      fill: #174EA6;\n",
              "    }\n",
              "\n",
              "    [theme=dark] .colab-df-convert {\n",
              "      background-color: #3B4455;\n",
              "      fill: #D2E3FC;\n",
              "    }\n",
              "\n",
              "    [theme=dark] .colab-df-convert:hover {\n",
              "      background-color: #434B5C;\n",
              "      box-shadow: 0px 1px 3px 1px rgba(0, 0, 0, 0.15);\n",
              "      filter: drop-shadow(0px 1px 2px rgba(0, 0, 0, 0.3));\n",
              "      fill: #FFFFFF;\n",
              "    }\n",
              "  </style>\n",
              "\n",
              "      <script>\n",
              "        const buttonEl =\n",
              "          document.querySelector('#df-3562cb11-29fb-4292-9c3e-d266833259e2 button.colab-df-convert');\n",
              "        buttonEl.style.display =\n",
              "          google.colab.kernel.accessAllowed ? 'block' : 'none';\n",
              "\n",
              "        async function convertToInteractive(key) {\n",
              "          const element = document.querySelector('#df-3562cb11-29fb-4292-9c3e-d266833259e2');\n",
              "          const dataTable =\n",
              "            await google.colab.kernel.invokeFunction('convertToInteractive',\n",
              "                                                     [key], {});\n",
              "          if (!dataTable) return;\n",
              "\n",
              "          const docLinkHtml = 'Like what you see? Visit the ' +\n",
              "            '<a target=\"_blank\" href=https://colab.research.google.com/notebooks/data_table.ipynb>data table notebook</a>'\n",
              "            + ' to learn more about interactive tables.';\n",
              "          element.innerHTML = '';\n",
              "          dataTable['output_type'] = 'display_data';\n",
              "          await google.colab.output.renderOutput(dataTable, element);\n",
              "          const docLink = document.createElement('div');\n",
              "          docLink.innerHTML = docLinkHtml;\n",
              "          element.appendChild(docLink);\n",
              "        }\n",
              "      </script>\n",
              "    </div>\n",
              "  </div>\n",
              "  "
            ]
          },
          "metadata": {},
          "execution_count": 14
        }
      ],
      "source": [
        "#store the common cold data \n",
        "df_hypertension = df_symptoms[df_symptoms['Disease']=='Hypertension ']\n",
        "df_hypertension"
      ]
    },
    {
      "cell_type": "code",
      "execution_count": 15,
      "id": "ca78708b",
      "metadata": {
        "id": "ca78708b",
        "colab": {
          "base_uri": "https://localhost:8080/",
          "height": 539
        },
        "outputId": "a6a27574-8212-4e15-b460-2d85cae84cd3"
      },
      "outputs": [
        {
          "output_type": "display_data",
          "data": {
            "text/plain": [
              "<Figure size 864x432 with 1 Axes>"
            ],
            "image/png": "[encoded data removed]"
          },
          "metadata": {
            "needs_background": "light"
          }
        },
        {
          "output_type": "stream",
          "name": "stdout",
          "text": [
            "List the Symptom_1 in Hypertension\n",
            "-----------------------------------\n",
            " headache      108\n",
            " chest_pain     12\n",
            "Name: Symptom_1, dtype: int64\n"
          ]
        }
      ],
      "source": [
        "\n",
        "plt.rcParams['figure.figsize']=(12,6)\n",
        "df_hypertension['Symptom_1'].value_counts().plot(kind='bar',color='b')\n",
        "plt.title('Pictorial Analysis of Symptom_1 in common cold')\n",
        "plt.xlabel('Symptom_1')\n",
        "plt.ylabel('Count of Symptom_1 in Hypertension')\n",
        "plt.show()\n",
        "print('List the Symptom_1 in Hypertension')\n",
        "print('-----------------------------------')\n",
        "\n",
        "print(df_hypertension['Symptom_1'].value_counts())"
      ]
    },
    {
      "cell_type": "code",
      "execution_count": 16,
      "id": "4ae6efed",
      "metadata": {
        "id": "4ae6efed",
        "colab": {
          "base_uri": "https://localhost:8080/",
          "height": 539
        },
        "outputId": "a2d77695-0622-4b86-e5e9-90934eb31723"
      },
      "outputs": [
        {
          "output_type": "display_data",
          "data": {
            "text/plain": [
              "<Figure size 864x432 with 1 Axes>"
            ],
            "image/png": "[encoded data removed]"
          },
          "metadata": {
            "needs_background": "light"
          }
        },
        {
          "output_type": "stream",
          "name": "stdout",
          "text": [
            "List the Symptom_2 in Hypertension\n",
            "-----------------------------------\n",
            " chest_pain    96\n",
            " dizziness     24\n",
            "Name: Symptom_2, dtype: int64\n"
          ]
        }
      ],
      "source": [
        "\n",
        "plt.rcParams['figure.figsize']=(12,6)\n",
        "df_hypertension['Symptom_2'].value_counts().plot(kind='bar',color='b')\n",
        "plt.title('Pictorial Analysis of Symptom_2 in common cold')\n",
        "plt.xlabel('Symptom_2')\n",
        "plt.ylabel('Count of Symptom_2 in Hypertension')\n",
        "plt.show()\n",
        "print('List the Symptom_2 in Hypertension')\n",
        "print('-----------------------------------')\n",
        "\n",
        "print(df_hypertension['Symptom_2'].value_counts())"
      ]
    },
    {
      "cell_type": "code",
      "execution_count": 17,
      "id": "fa68e9d0",
      "metadata": {
        "id": "fa68e9d0",
        "colab": {
          "base_uri": "https://localhost:8080/",
          "height": 563
        },
        "outputId": "aebe8636-53ee-4f0b-cb17-a925ce4af82d"
      },
      "outputs": [
        {
          "output_type": "display_data",
          "data": {
            "text/plain": [
              "<Figure size 864x432 with 1 Axes>"
            ],
            "image/png": "[encoded data removed]"
          },
          "metadata": {
            "needs_background": "light"
          }
        },
        {
          "output_type": "stream",
          "name": "stdout",
          "text": [
            "List the Symptom_3 in Hypertension\n",
            "-----------------------------------\n",
            " dizziness          84\n",
            " loss_of_balance    36\n",
            "Name: Symptom_3, dtype: int64\n"
          ]
        }
      ],
      "source": [
        "\n",
        "plt.rcParams['figure.figsize']=(12,6)\n",
        "df_hypertension['Symptom_3'].value_counts().plot(kind='bar',color='b')\n",
        "plt.title('Pictorial Analysis of Symptom_3 in Hypertension')\n",
        "plt.xlabel('Symptom_3')\n",
        "plt.ylabel('Count of Symptom_3 in Hypertension')\n",
        "plt.show()\n",
        "\n",
        "print('List the Symptom_3 in Hypertension')\n",
        "print('-----------------------------------')\n",
        "print(df_hypertension['Symptom_3'].value_counts())"
      ]
    },
    {
      "cell_type": "markdown",
      "id": "d1d916cb",
      "metadata": {
        "id": "d1d916cb"
      },
      "source": [
        "### List the Diseases with vomiting symptoms"
      ]
    },
    {
      "cell_type": "code",
      "execution_count": 18,
      "id": "5cdd77cd",
      "metadata": {
        "colab": {
          "base_uri": "https://localhost:8080/",
          "height": 424
        },
        "id": "5cdd77cd",
        "outputId": "945ac1f8-c772-4550-e3da-d660383fc67a"
      },
      "outputs": [
        {
          "output_type": "execute_result",
          "data": {
            "text/plain": [
              "                                      Disease  Symptom_1          Symptom_2  \\\n",
              "31                        Chronic cholestasis   vomiting     yellowish_skin   \n",
              "50                        Peptic ulcer diseae   vomiting   loss_of_appetite   \n",
              "51                        Peptic ulcer diseae   vomiting        indigestion   \n",
              "53                        Peptic ulcer diseae   vomiting   loss_of_appetite   \n",
              "54                        Peptic ulcer diseae   vomiting        indigestion   \n",
              "...                                       ...        ...                ...   \n",
              "4892             Paralysis (brain hemorrhage)   vomiting           headache   \n",
              "4903                      Alcoholic hepatitis   vomiting     yellowish_skin   \n",
              "4908                             Heart attack   vomiting     breathlessness   \n",
              "4912                             Hypoglycemia   vomiting            fatigue   \n",
              "4915  (vertigo) Paroymsal  Positional Vertigo   vomiting           headache   \n",
              "\n",
              "                       Symptom_3  \n",
              "31                        nausea  \n",
              "50                abdominal_pain  \n",
              "51                abdominal_pain  \n",
              "53                abdominal_pain  \n",
              "54                abdominal_pain  \n",
              "...                          ...  \n",
              "4892   weakness_of_one_body_side  \n",
              "4903              abdominal_pain  \n",
              "4908                    sweating  \n",
              "4912                     anxiety  \n",
              "4915                      nausea  \n",
              "\n",
              "[822 rows x 4 columns]"
            ],
            "text/html": [
              "\n",
              "  <div id=\"df-84e6c4d4-bcbb-46cc-9c41-6b3c5af6da34\">\n",
              "    <div class=\"colab-df-container\">\n",
              "      <div>\n",
              "<style scoped>\n",
              "    .dataframe tbody tr th:only-of-type {\n",
              "        vertical-align: middle;\n",
              "    }\n",
              "\n",
              "    .dataframe tbody tr th {\n",
              "        vertical-align: top;\n",
              "    }\n",
              "\n",
              "    .dataframe thead th {\n",
              "        text-align: right;\n",
              "    }\n",
              "</style>\n",
              "<table border=\"1\" class=\"dataframe\">\n",
              "  <thead>\n",
              "    <tr style=\"text-align: right;\">\n",
              "      <th></th>\n",
              "      <th>Disease</th>\n",
              "      <th>Symptom_1</th>\n",
              "      <th>Symptom_2</th>\n",
              "      <th>Symptom_3</th>\n",
              "    </tr>\n",
              "  </thead>\n",
              "  <tbody>\n",
              "    <tr>\n",
              "      <th>31</th>\n",
              "      <td>Chronic cholestasis</td>\n",
              "      <td>vomiting</td>\n",
              "      <td>yellowish_skin</td>\n",
              "      <td>nausea</td>\n",
              "    </tr>\n",
              "    <tr>\n",
              "      <th>50</th>\n",
              "      <td>Peptic ulcer diseae</td>\n",
              "      <td>vomiting</td>\n",
              "      <td>loss_of_appetite</td>\n",
              "      <td>abdominal_pain</td>\n",
              "    </tr>\n",
              "    <tr>\n",
              "      <th>51</th>\n",
              "      <td>Peptic ulcer diseae</td>\n",
              "      <td>vomiting</td>\n",
              "      <td>indigestion</td>\n",
              "      <td>abdominal_pain</td>\n",
              "    </tr>\n",
              "    <tr>\n",
              "      <th>53</th>\n",
              "      <td>Peptic ulcer diseae</td>\n",
              "      <td>vomiting</td>\n",
              "      <td>loss_of_appetite</td>\n",
              "      <td>abdominal_pain</td>\n",
              "    </tr>\n",
              "    <tr>\n",
              "      <th>54</th>\n",
              "      <td>Peptic ulcer diseae</td>\n",
              "      <td>vomiting</td>\n",
              "      <td>indigestion</td>\n",
              "      <td>abdominal_pain</td>\n",
              "    </tr>\n",
              "    <tr>\n",
              "      <th>...</th>\n",
              "      <td>...</td>\n",
              "      <td>...</td>\n",
              "      <td>...</td>\n",
              "      <td>...</td>\n",
              "    </tr>\n",
              "    <tr>\n",
              "      <th>4892</th>\n",
              "      <td>Paralysis (brain hemorrhage)</td>\n",
              "      <td>vomiting</td>\n",
              "      <td>headache</td>\n",
              "      <td>weakness_of_one_body_side</td>\n",
              "    </tr>\n",
              "    <tr>\n",
              "      <th>4903</th>\n",
              "      <td>Alcoholic hepatitis</td>\n",
              "      <td>vomiting</td>\n",
              "      <td>yellowish_skin</td>\n",
              "      <td>abdominal_pain</td>\n",
              "    </tr>\n",
              "    <tr>\n",
              "      <th>4908</th>\n",
              "      <td>Heart attack</td>\n",
              "      <td>vomiting</td>\n",
              "      <td>breathlessness</td>\n",
              "      <td>sweating</td>\n",
              "    </tr>\n",
              "    <tr>\n",
              "      <th>4912</th>\n",
              "      <td>Hypoglycemia</td>\n",
              "      <td>vomiting</td>\n",
              "      <td>fatigue</td>\n",
              "      <td>anxiety</td>\n",
              "    </tr>\n",
              "    <tr>\n",
              "      <th>4915</th>\n",
              "      <td>(vertigo) Paroymsal  Positional Vertigo</td>\n",
              "      <td>vomiting</td>\n",
              "      <td>headache</td>\n",
              "      <td>nausea</td>\n",
              "    </tr>\n",
              "  </tbody>\n",
              "</table>\n",
              "<p>822 rows × 4 columns</p>\n",
              "</div>\n",
              "      <button class=\"colab-df-convert\" onclick=\"convertToInteractive('df-84e6c4d4-bcbb-46cc-9c41-6b3c5af6da34')\"\n",
              "              title=\"Convert this dataframe to an interactive table.\"\n",
              "              style=\"display:none;\">\n",
              "        \n",
              "  <svg xmlns=\"http://www.w3.org/2000/svg\" height=\"24px\"viewBox=\"0 0 24 24\"\n",
              "       width=\"24px\">\n",
              "    <path d=\"M0 0h24v24H0V0z\" fill=\"none\"/>\n",
              "    <path d=\"M18.56 5.44l.94 2.06.94-2.06 2.06-.94-2.06-.94-.94-2.06-.94 2.06-2.06.94zm-11 1L8.5 8.5l.94-2.06 2.06-.94-2.06-.94L8.5 2.5l-.94 2.06-2.06.94zm10 10l.94 2.06.94-2.06 2.06-.94-2.06-.94-.94-2.06-.94 2.06-2.06.94z\"/><path d=\"M17.41 7.96l-1.37-1.37c-.4-.4-.92-.59-1.43-.59-.52 0-1.04.2-1.43.59L10.3 9.45l-7.72 7.72c-.78.78-.78 2.05 0 2.83L4 21.41c.39.39.9.59 1.41.59.51 0 1.02-.2 1.41-.59l7.78-7.78 2.81-2.81c.8-.78.8-2.07 0-2.86zM5.41 20L4 18.59l7.72-7.72 1.47 1.35L5.41 20z\"/>\n",
              "  </svg>\n",
              "      </button>\n",
              "      \n",
              "  <style>\n",
              "    .colab-df-container {\n",
              "      display:flex;\n",
              "      flex-wrap:wrap;\n",
              "      gap: 12px;\n",
              "    }\n",
              "\n",
              "    .colab-df-convert {\n",
              "      background-color: #E8F0FE;\n",
              "      border: none;\n",
              "      border-radius: 50%;\n",
              "      cursor: pointer;\n",
              "      display: none;\n",
              "      fill: #1967D2;\n",
              "      height: 32px;\n",
              "      padding: 0 0 0 0;\n",
              "      width: 32px;\n",
              "    }\n",
              "\n",
              "    .colab-df-convert:hover {\n",
              "      background-color: #E2EBFA;\n",
              "      box-shadow: 0px 1px 2px rgba(60, 64, 67, 0.3), 0px 1px 3px 1px rgba(60, 64, 67, 0.15);\n",
              "      fill: #174EA6;\n",
              "    }\n",
              "\n",
              "    [theme=dark] .colab-df-convert {\n",
              "      background-color: #3B4455;\n",
              "      fill: #D2E3FC;\n",
              "    }\n",
              "\n",
              "    [theme=dark] .colab-df-convert:hover {\n",
              "      background-color: #434B5C;\n",
              "      box-shadow: 0px 1px 3px 1px rgba(0, 0, 0, 0.15);\n",
              "      filter: drop-shadow(0px 1px 2px rgba(0, 0, 0, 0.3));\n",
              "      fill: #FFFFFF;\n",
              "    }\n",
              "  </style>\n",
              "\n",
              "      <script>\n",
              "        const buttonEl =\n",
              "          document.querySelector('#df-84e6c4d4-bcbb-46cc-9c41-6b3c5af6da34 button.colab-df-convert');\n",
              "        buttonEl.style.display =\n",
              "          google.colab.kernel.accessAllowed ? 'block' : 'none';\n",
              "\n",
              "        async function convertToInteractive(key) {\n",
              "          const element = document.querySelector('#df-84e6c4d4-bcbb-46cc-9c41-6b3c5af6da34');\n",
              "          const dataTable =\n",
              "            await google.colab.kernel.invokeFunction('convertToInteractive',\n",
              "                                                     [key], {});\n",
              "          if (!dataTable) return;\n",
              "\n",
              "          const docLinkHtml = 'Like what you see? Visit the ' +\n",
              "            '<a target=\"_blank\" href=https://colab.research.google.com/notebooks/data_table.ipynb>data table notebook</a>'\n",
              "            + ' to learn more about interactive tables.';\n",
              "          element.innerHTML = '';\n",
              "          dataTable['output_type'] = 'display_data';\n",
              "          await google.colab.output.renderOutput(dataTable, element);\n",
              "          const docLink = document.createElement('div');\n",
              "          docLink.innerHTML = docLinkHtml;\n",
              "          element.appendChild(docLink);\n",
              "        }\n",
              "      </script>\n",
              "    </div>\n",
              "  </div>\n",
              "  "
            ]
          },
          "metadata": {},
          "execution_count": 18
        }
      ],
      "source": [
        "#store the common cold data \n",
        "df_vomiting = df_symptoms[df_symptoms['Symptom_1']==' vomiting']\n",
        "df_vomiting"
      ]
    },
    {
      "cell_type": "code",
      "execution_count": 19,
      "id": "59e2f91f",
      "metadata": {
        "colab": {
          "base_uri": "https://localhost:8080/",
          "height": 879
        },
        "id": "59e2f91f",
        "outputId": "891a77e4-6abf-4ff6-d26c-3e012d060499"
      },
      "outputs": [
        {
          "output_type": "display_data",
          "data": {
            "text/plain": [
              "<Figure size 864x432 with 1 Axes>"
            ],
            "image/png": "[encoded data removed]"
          },
          "metadata": {
            "needs_background": "light"
          }
        },
        {
          "output_type": "stream",
          "name": "stdout",
          "text": [
            "List the Disease with vomiting symptoms\n",
            "-----------------------------------\n",
            "Peptic ulcer diseae                        114\n",
            "Alcoholic hepatitis                        114\n",
            "Hypoglycemia                               114\n",
            "(vertigo) Paroymsal  Positional Vertigo    114\n",
            "Gastroenteritis                            108\n",
            "Paralysis (brain hemorrhage)               108\n",
            "Heart attack                               108\n",
            "Chronic cholestasis                          6\n",
            "Jaundice                                     6\n",
            "Malaria                                      6\n",
            "hepatitis A                                  6\n",
            "Hepatitis D                                  6\n",
            "Hepatitis E                                  6\n",
            "Tuberculosis                                 6\n",
            "Name: Disease, dtype: int64\n"
          ]
        }
      ],
      "source": [
        "\n",
        "plt.rcParams['figure.figsize']=(12,6)\n",
        "df_vomiting['Disease'].value_counts().plot(kind='bar',color='b')\n",
        "plt.title('Pictorial Analysis of Disease with vomiting symptoms')\n",
        "plt.xlabel('Disease')\n",
        "plt.ylabel('Count of Disease with vomiting symptoms')\n",
        "plt.show()\n",
        "print('List the Disease with vomiting symptoms')\n",
        "print('-----------------------------------')\n",
        "\n",
        "print(df_vomiting['Disease'].value_counts())"
      ]
    },
    {
      "cell_type": "code",
      "execution_count": 19,
      "id": "93ba4e2d",
      "metadata": {
        "id": "93ba4e2d"
      },
      "outputs": [],
      "source": []
    }
  ],
  "metadata": {
    "colab": {
      "provenance": []
    },
    "kernelspec": {
      "display_name": "Python 3 (ipykernel)",
      "language": "python",
      "name": "python3"
    },
    "language_info": {
      "codemirror_mode": {
        "name": "ipython",
        "version": 3
      },
      "file_extension": ".py",
      "mimetype": "text/x-python",
      "name": "python",
      "nbconvert_exporter": "python",
      "pygments_lexer": "ipython3",
      "version": "3.9.12"
    }
  },
  "nbformat": 4,
  "nbformat_minor": 5
}