{
  "cells": [
    {
      "cell_type": "markdown",
      "id": "816a1768",
      "metadata": {
        "id": "816a1768"
      },
      "source": [
        "### Analysis of Sensor generated Health Data\n",
        "\n",
        "- Wide use of smart phone creates huge amount of sensor health data every day\n",
        "- We can monitor human activity and give advice on daily workout and nutrition plan.\n",
        "- Here, we are going to analyze sensor data of human activity collected from various people (called subject)"
      ]
    },
    {
      "cell_type": "code",
      "execution_count": null,
      "id": "fea76a68",
      "metadata": {
        "id": "fea76a68",
        "outputId": "aed6c86d-6c30-46f5-fc94-5d7f8fb8caf4"
      },
      "outputs": [
        {
          "data": {
            "text/html": [
              "        <script type=\"text/javascript\">\n",
              "        window.PlotlyConfig = {MathJaxConfig: 'local'};\n",
              "        if (window.MathJax && window.MathJax.Hub && window.MathJax.Hub.Config) {window.MathJax.Hub.Config({SVG: {font: \"STIX-Web\"}});}\n",
              "        if (typeof require !== 'undefined') {\n",
              "        require.undef(\"plotly\");\n",
              "        requirejs.config({\n",
              "            paths: {\n",
              "                'plotly': ['https://cdn.plot.ly/plotly-2.16.1.min']\n",
              "            }\n",
              "        });\n",
              "        require(['plotly'], function(Plotly) {\n",
              "            window._Plotly = Plotly;\n",
              "        });\n",
              "        }\n",
              "        </script>\n",
              "        "
            ]
          },
          "metadata": {},
          "output_type": "display_data"
        }
      ],
      "source": [
        "import pandas as pd\n",
        "\n",
        "# To do linear algebra\n",
        "import numpy as np\n",
        "from numpy import pi\n",
        "\n",
        "# To create plots\n",
        "from matplotlib.colors import rgb2hex\n",
        "from matplotlib.cm import get_cmap\n",
        "import matplotlib.pyplot as plt\n",
        "from matplotlib.axes import Axes\n",
        "# To create nicer plots\n",
        "import seaborn as sns\n",
        "\n",
        "# To create interactive plots\n",
        "from plotly.offline import init_notebook_mode, iplot\n",
        "import plotly.graph_objs as go\n",
        "init_notebook_mode(connected=True)\n",
        "\n",
        "# To get new datatypes and functions\n",
        "from collections import Counter\n",
        "from cycler import cycler\n",
        "\n",
        "from scipy.stats import norm,skew, probplot\n",
        "from scipy.optimize import curve_fit\n",
        "\n",
        "from sklearn.preprocessing import StandardScaler, LabelEncoder\n",
        "from sklearn.model_selection import train_test_split\n",
        "from sklearn.metrics import accuracy_score\n",
        "from sklearn.decomposition import PCA\n",
        "from sklearn.manifold import TSNE\n",
        "\n",
        "from lightgbm import LGBMClassifier\n",
        "\n",
        "from time import time\n",
        "\n",
        "from sklearn.tree import DecisionTreeClassifier\n",
        "from sklearn.neighbors import KNeighborsClassifier\n",
        "from sklearn.svm import SVC\n",
        "from sklearn.naive_bayes import GaussianNB\n",
        "from sklearn.discriminant_analysis import QuadraticDiscriminantAnalysis\n",
        "from sklearn.metrics import accuracy_score\n",
        "from sklearn import preprocessing\n",
        "from sklearn.linear_model import LinearRegression, LogisticRegression\n",
        "from sklearn.ensemble import ExtraTreesClassifier\n",
        "from sklearn.feature_selection import SelectFromModel\n",
        "from sklearn.ensemble import RandomForestClassifier\n",
        "from sklearn.model_selection import StratifiedKFold\n",
        "from sklearn.feature_selection import RFECV\n",
        "from sklearn.feature_selection import RFE\n",
        "from sklearn.model_selection import cross_val_score\n",
        "from sklearn.feature_selection import VarianceThreshold\n",
        "from sklearn.pipeline import make_pipeline\n",
        "from sklearn.decomposition import PCA\n",
        "from sklearn.metrics import confusion_matrix\n",
        "#import scikitplot as skplt\n",
        "import itertools\n",
        "from sklearn.model_selection import GridSearchCV\n",
        "import warnings\n",
        "warnings.filterwarnings('ignore')"
      ]
    },
    {
      "cell_type": "code",
      "execution_count": null,
      "id": "c4877a97",
      "metadata": {
        "id": "c4877a97"
      },
      "outputs": [],
      "source": [
        "#load dataset\n",
        "train_df = pd.read_csv('sensor_activity_train.csv')\n",
        "test_df = pd.read_csv('sensor_activity_test.csv')\n",
        "\n",
        "train_df['Data'] = 'Train'\n",
        "test_df['Data'] = 'Test'\n",
        "\n",
        "df_sensor_activity = pd.concat([train_df,test_df], axis = 0).reset_index(drop = True)\n"
      ]
    },
    {
      "cell_type": "markdown",
      "id": "51264086",
      "metadata": {
        "id": "51264086"
      },
      "source": [
        "#### Volume of data"
      ]
    },
    {
      "cell_type": "code",
      "execution_count": null,
      "id": "a6671383",
      "metadata": {
        "id": "a6671383",
        "outputId": "a6cbe658-4be1-4685-c2b9-64be51612b8a"
      },
      "outputs": [
        {
          "data": {
            "text/plain": [
              "(10299, 564)"
            ]
          },
          "execution_count": 101,
          "metadata": {},
          "output_type": "execute_result"
        }
      ],
      "source": [
        "df_sensor_activity.shape"
      ]
    },
    {
      "cell_type": "markdown",
      "id": "57214e55",
      "metadata": {
        "id": "57214e55"
      },
      "source": [
        "#### Statistical distribution of numeric data "
      ]
    },
    {
      "cell_type": "markdown",
      "id": "dd0a2597",
      "metadata": {
        "id": "dd0a2597"
      },
      "source": [
        "#### Analysis of columns"
      ]
    },
    {
      "cell_type": "code",
      "execution_count": null,
      "id": "746f4422",
      "metadata": {
        "id": "746f4422",
        "outputId": "a19dc829-5402-4e59-c327-873bf3bb0c4b"
      },
      "outputs": [
        {
          "data": {
            "text/plain": [
              "Index(['tBodyAcc-mean()-X', 'tBodyAcc-mean()-Y', 'tBodyAcc-mean()-Z',\n",
              "       'tBodyAcc-std()-X', 'tBodyAcc-std()-Y', 'tBodyAcc-std()-Z',\n",
              "       'tBodyAcc-mad()-X', 'tBodyAcc-mad()-Y', 'tBodyAcc-mad()-Z',\n",
              "       'tBodyAcc-max()-X',\n",
              "       ...\n",
              "       'angle(tBodyAccMean,gravity)', 'angle(tBodyAccJerkMean),gravityMean)',\n",
              "       'angle(tBodyGyroMean,gravityMean)',\n",
              "       'angle(tBodyGyroJerkMean,gravityMean)', 'angle(X,gravityMean)',\n",
              "       'angle(Y,gravityMean)', 'angle(Z,gravityMean)', 'subject', 'Activity',\n",
              "       'Data'],\n",
              "      dtype='object', length=564)"
            ]
          },
          "execution_count": 102,
          "metadata": {},
          "output_type": "execute_result"
        }
      ],
      "source": [
        "df_sensor_activity.columns"
      ]
    },
    {
      "cell_type": "markdown",
      "id": "5b2c23f9",
      "metadata": {
        "id": "5b2c23f9"
      },
      "source": [
        "#### Data understanding"
      ]
    },
    {
      "cell_type": "code",
      "execution_count": null,
      "id": "f32b2c75",
      "metadata": {
        "id": "f32b2c75",
        "outputId": "e023f66b-a47e-41e5-a14e-379561a03648"
      },
      "outputs": [
        {
          "data": {
            "text/html": [
              "<div>\n",
              "<style scoped>\n",
              "    .dataframe tbody tr th:only-of-type {\n",
              "        vertical-align: middle;\n",
              "    }\n",
              "\n",
              "    .dataframe tbody tr th {\n",
              "        vertical-align: top;\n",
              "    }\n",
              "\n",
              "    .dataframe thead th {\n",
              "        text-align: right;\n",
              "    }\n",
              "</style>\n",
              "<table border=\"1\" class=\"dataframe\">\n",
              "  <thead>\n",
              "    <tr style=\"text-align: right;\">\n",
              "      <th></th>\n",
              "      <th>tBodyAcc-mean()-X</th>\n",
              "      <th>tBodyAcc-mean()-Y</th>\n",
              "      <th>tBodyAcc-mean()-Z</th>\n",
              "      <th>tBodyAcc-std()-X</th>\n",
              "      <th>tBodyAcc-std()-Y</th>\n",
              "      <th>tBodyAcc-std()-Z</th>\n",
              "      <th>tBodyAcc-mad()-X</th>\n",
              "      <th>tBodyAcc-mad()-Y</th>\n",
              "      <th>tBodyAcc-mad()-Z</th>\n",
              "      <th>tBodyAcc-max()-X</th>\n",
              "      <th>...</th>\n",
              "      <th>angle(tBodyAccMean,gravity)</th>\n",
              "      <th>angle(tBodyAccJerkMean),gravityMean)</th>\n",
              "      <th>angle(tBodyGyroMean,gravityMean)</th>\n",
              "      <th>angle(tBodyGyroJerkMean,gravityMean)</th>\n",
              "      <th>angle(X,gravityMean)</th>\n",
              "      <th>angle(Y,gravityMean)</th>\n",
              "      <th>angle(Z,gravityMean)</th>\n",
              "      <th>subject</th>\n",
              "      <th>Activity</th>\n",
              "      <th>Data</th>\n",
              "    </tr>\n",
              "  </thead>\n",
              "  <tbody>\n",
              "    <tr>\n",
              "      <th>10294</th>\n",
              "      <td>0.310155</td>\n",
              "      <td>-0.053391</td>\n",
              "      <td>-0.099109</td>\n",
              "      <td>-0.287866</td>\n",
              "      <td>-0.140589</td>\n",
              "      <td>-0.215088</td>\n",
              "      <td>-0.356083</td>\n",
              "      <td>-0.148775</td>\n",
              "      <td>-0.232057</td>\n",
              "      <td>0.185361</td>\n",
              "      <td>...</td>\n",
              "      <td>-0.337422</td>\n",
              "      <td>0.346295</td>\n",
              "      <td>0.884904</td>\n",
              "      <td>-0.698885</td>\n",
              "      <td>-0.651732</td>\n",
              "      <td>0.274627</td>\n",
              "      <td>0.184784</td>\n",
              "      <td>24</td>\n",
              "      <td>WALKING_UPSTAIRS</td>\n",
              "      <td>Test</td>\n",
              "    </tr>\n",
              "    <tr>\n",
              "      <th>10295</th>\n",
              "      <td>0.363385</td>\n",
              "      <td>-0.039214</td>\n",
              "      <td>-0.105915</td>\n",
              "      <td>-0.305388</td>\n",
              "      <td>0.028148</td>\n",
              "      <td>-0.196373</td>\n",
              "      <td>-0.373540</td>\n",
              "      <td>-0.030036</td>\n",
              "      <td>-0.270237</td>\n",
              "      <td>0.185361</td>\n",
              "      <td>...</td>\n",
              "      <td>-0.736701</td>\n",
              "      <td>-0.372889</td>\n",
              "      <td>-0.657421</td>\n",
              "      <td>0.322549</td>\n",
              "      <td>-0.655181</td>\n",
              "      <td>0.273578</td>\n",
              "      <td>0.182412</td>\n",
              "      <td>24</td>\n",
              "      <td>WALKING_UPSTAIRS</td>\n",
              "      <td>Test</td>\n",
              "    </tr>\n",
              "    <tr>\n",
              "      <th>10296</th>\n",
              "      <td>0.349966</td>\n",
              "      <td>0.030077</td>\n",
              "      <td>-0.115788</td>\n",
              "      <td>-0.329638</td>\n",
              "      <td>-0.042143</td>\n",
              "      <td>-0.250181</td>\n",
              "      <td>-0.388017</td>\n",
              "      <td>-0.133257</td>\n",
              "      <td>-0.347029</td>\n",
              "      <td>0.007471</td>\n",
              "      <td>...</td>\n",
              "      <td>-0.181560</td>\n",
              "      <td>0.088574</td>\n",
              "      <td>0.696663</td>\n",
              "      <td>0.363139</td>\n",
              "      <td>-0.655357</td>\n",
              "      <td>0.274479</td>\n",
              "      <td>0.181184</td>\n",
              "      <td>24</td>\n",
              "      <td>WALKING_UPSTAIRS</td>\n",
              "      <td>Test</td>\n",
              "    </tr>\n",
              "    <tr>\n",
              "      <th>10297</th>\n",
              "      <td>0.237594</td>\n",
              "      <td>0.018467</td>\n",
              "      <td>-0.096499</td>\n",
              "      <td>-0.323114</td>\n",
              "      <td>-0.229775</td>\n",
              "      <td>-0.207574</td>\n",
              "      <td>-0.392380</td>\n",
              "      <td>-0.279610</td>\n",
              "      <td>-0.289477</td>\n",
              "      <td>0.007471</td>\n",
              "      <td>...</td>\n",
              "      <td>0.444558</td>\n",
              "      <td>-0.819188</td>\n",
              "      <td>0.929294</td>\n",
              "      <td>-0.008398</td>\n",
              "      <td>-0.659719</td>\n",
              "      <td>0.264782</td>\n",
              "      <td>0.187563</td>\n",
              "      <td>24</td>\n",
              "      <td>WALKING_UPSTAIRS</td>\n",
              "      <td>Test</td>\n",
              "    </tr>\n",
              "    <tr>\n",
              "      <th>10298</th>\n",
              "      <td>0.153627</td>\n",
              "      <td>-0.018437</td>\n",
              "      <td>-0.137018</td>\n",
              "      <td>-0.330046</td>\n",
              "      <td>-0.195253</td>\n",
              "      <td>-0.164339</td>\n",
              "      <td>-0.430974</td>\n",
              "      <td>-0.218295</td>\n",
              "      <td>-0.229933</td>\n",
              "      <td>-0.111527</td>\n",
              "      <td>...</td>\n",
              "      <td>0.598808</td>\n",
              "      <td>-0.287951</td>\n",
              "      <td>0.876030</td>\n",
              "      <td>-0.024965</td>\n",
              "      <td>-0.660080</td>\n",
              "      <td>0.263936</td>\n",
              "      <td>0.188103</td>\n",
              "      <td>24</td>\n",
              "      <td>WALKING_UPSTAIRS</td>\n",
              "      <td>Test</td>\n",
              "    </tr>\n",
              "  </tbody>\n",
              "</table>\n",
              "<p>5 rows × 564 columns</p>\n",
              "</div>"
            ],
            "text/plain": [
              "       tBodyAcc-mean()-X  tBodyAcc-mean()-Y  tBodyAcc-mean()-Z  \\\n",
              "10294           0.310155          -0.053391          -0.099109   \n",
              "10295           0.363385          -0.039214          -0.105915   \n",
              "10296           0.349966           0.030077          -0.115788   \n",
              "10297           0.237594           0.018467          -0.096499   \n",
              "10298           0.153627          -0.018437          -0.137018   \n",
              "\n",
              "       tBodyAcc-std()-X  tBodyAcc-std()-Y  tBodyAcc-std()-Z  tBodyAcc-mad()-X  \\\n",
              "10294         -0.287866         -0.140589         -0.215088         -0.356083   \n",
              "10295         -0.305388          0.028148         -0.196373         -0.373540   \n",
              "10296         -0.329638         -0.042143         -0.250181         -0.388017   \n",
              "10297         -0.323114         -0.229775         -0.207574         -0.392380   \n",
              "10298         -0.330046         -0.195253         -0.164339         -0.430974   \n",
              "\n",
              "       tBodyAcc-mad()-Y  tBodyAcc-mad()-Z  tBodyAcc-max()-X  ...  \\\n",
              "10294         -0.148775         -0.232057          0.185361  ...   \n",
              "10295         -0.030036         -0.270237          0.185361  ...   \n",
              "10296         -0.133257         -0.347029          0.007471  ...   \n",
              "10297         -0.279610         -0.289477          0.007471  ...   \n",
              "10298         -0.218295         -0.229933         -0.111527  ...   \n",
              "\n",
              "       angle(tBodyAccMean,gravity)  angle(tBodyAccJerkMean),gravityMean)  \\\n",
              "10294                    -0.337422                              0.346295   \n",
              "10295                    -0.736701                             -0.372889   \n",
              "10296                    -0.181560                              0.088574   \n",
              "10297                     0.444558                             -0.819188   \n",
              "10298                     0.598808                             -0.287951   \n",
              "\n",
              "       angle(tBodyGyroMean,gravityMean)  angle(tBodyGyroJerkMean,gravityMean)  \\\n",
              "10294                          0.884904                             -0.698885   \n",
              "10295                         -0.657421                              0.322549   \n",
              "10296                          0.696663                              0.363139   \n",
              "10297                          0.929294                             -0.008398   \n",
              "10298                          0.876030                             -0.024965   \n",
              "\n",
              "       angle(X,gravityMean)  angle(Y,gravityMean)  angle(Z,gravityMean)  \\\n",
              "10294             -0.651732              0.274627              0.184784   \n",
              "10295             -0.655181              0.273578              0.182412   \n",
              "10296             -0.655357              0.274479              0.181184   \n",
              "10297             -0.659719              0.264782              0.187563   \n",
              "10298             -0.660080              0.263936              0.188103   \n",
              "\n",
              "       subject          Activity  Data  \n",
              "10294       24  WALKING_UPSTAIRS  Test  \n",
              "10295       24  WALKING_UPSTAIRS  Test  \n",
              "10296       24  WALKING_UPSTAIRS  Test  \n",
              "10297       24  WALKING_UPSTAIRS  Test  \n",
              "10298       24  WALKING_UPSTAIRS  Test  \n",
              "\n",
              "[5 rows x 564 columns]"
            ]
          },
          "execution_count": 103,
          "metadata": {},
          "output_type": "execute_result"
        }
      ],
      "source": [
        "df_sensor_activity.tail(5)"
      ]
    },
    {
      "cell_type": "markdown",
      "id": "de887be2",
      "metadata": {
        "id": "de887be2"
      },
      "source": [
        "#### Data from different Health monitoring devices for various persons(subject) are collected here\n",
        "\n",
        "#### The subjects are showing the device data from various activities\n",
        "\n",
        "#### Below is the count of records captured from each subject across activities using various devices"
      ]
    },
    {
      "cell_type": "code",
      "execution_count": null,
      "id": "cd8bb79e",
      "metadata": {
        "id": "cd8bb79e",
        "outputId": "a826a67a-6216-4af6-ff30-963971b403e4"
      },
      "outputs": [
        {
          "data": {
            "text/plain": [
              "25    409\n",
              "21    408\n",
              "26    392\n",
              "30    383\n",
              "28    382\n",
              "24    381\n",
              "27    376\n",
              "23    372\n",
              "17    368\n",
              "16    366\n",
              "18    364\n",
              "19    360\n",
              "20    354\n",
              "1     347\n",
              "29    344\n",
              "3     341\n",
              "15    328\n",
              "13    327\n",
              "6     325\n",
              "14    323\n",
              "22    321\n",
              "12    320\n",
              "4     317\n",
              "11    316\n",
              "7     308\n",
              "5     302\n",
              "2     302\n",
              "10    294\n",
              "9     288\n",
              "8     281\n",
              "Name: subject, dtype: int64"
            ]
          },
          "execution_count": 104,
          "metadata": {},
          "output_type": "execute_result"
        }
      ],
      "source": [
        "df_sensor_activity['subject'].value_counts().sort_values(ascending=False)"
      ]
    },
    {
      "cell_type": "code",
      "execution_count": null,
      "id": "3ba2b548",
      "metadata": {
        "id": "3ba2b548",
        "outputId": "af46a781-ca50-46cf-b4fb-295a265a719c"
      },
      "outputs": [
        {
          "name": "stdout",
          "output_type": "stream",
          "text": [
            "<class 'pandas.core.frame.DataFrame'>\n",
            "RangeIndex: 10299 entries, 0 to 10298\n",
            "Columns: 564 entries, tBodyAcc-mean()-X to Data\n",
            "dtypes: float64(561), int64(1), object(2)\n",
            "memory usage: 44.3+ MB\n"
          ]
        }
      ],
      "source": [
        "df_sensor_activity.info()"
      ]
    },
    {
      "cell_type": "markdown",
      "id": "6d3c7ea0",
      "metadata": {
        "id": "6d3c7ea0"
      },
      "source": [
        "#### Let us check out the individual data types"
      ]
    },
    {
      "cell_type": "code",
      "execution_count": null,
      "id": "d1761714",
      "metadata": {
        "id": "d1761714",
        "outputId": "fe681b8c-4ab7-46c3-a7e9-5cac20cfc815"
      },
      "outputs": [
        {
          "data": {
            "text/plain": [
              "tBodyAcc-mean()-X       float64\n",
              "tBodyAcc-mean()-Y       float64\n",
              "tBodyAcc-mean()-Z       float64\n",
              "tBodyAcc-std()-X        float64\n",
              "tBodyAcc-std()-Y        float64\n",
              "                         ...   \n",
              "angle(Y,gravityMean)    float64\n",
              "angle(Z,gravityMean)    float64\n",
              "subject                   int64\n",
              "Activity                 object\n",
              "Data                     object\n",
              "Length: 564, dtype: object"
            ]
          },
          "execution_count": 106,
          "metadata": {},
          "output_type": "execute_result"
        }
      ],
      "source": [
        "#Let us check out the individual data types\n",
        "df_sensor_activity.dtypes"
      ]
    },
    {
      "cell_type": "code",
      "execution_count": null,
      "id": "df420efd",
      "metadata": {
        "id": "df420efd",
        "outputId": "9682dc20-0bfc-48ae-fdb1-7b578a256310"
      },
      "outputs": [
        {
          "data": {
            "text/html": [
              "<div>\n",
              "<style scoped>\n",
              "    .dataframe tbody tr th:only-of-type {\n",
              "        vertical-align: middle;\n",
              "    }\n",
              "\n",
              "    .dataframe tbody tr th {\n",
              "        vertical-align: top;\n",
              "    }\n",
              "\n",
              "    .dataframe thead th {\n",
              "        text-align: right;\n",
              "    }\n",
              "</style>\n",
              "<table border=\"1\" class=\"dataframe\">\n",
              "  <thead>\n",
              "    <tr style=\"text-align: right;\">\n",
              "      <th></th>\n",
              "      <th>Data</th>\n",
              "    </tr>\n",
              "  </thead>\n",
              "  <tbody>\n",
              "    <tr>\n",
              "      <th>0</th>\n",
              "      <td>Train</td>\n",
              "    </tr>\n",
              "    <tr>\n",
              "      <th>1</th>\n",
              "      <td>Train</td>\n",
              "    </tr>\n",
              "    <tr>\n",
              "      <th>2</th>\n",
              "      <td>Train</td>\n",
              "    </tr>\n",
              "    <tr>\n",
              "      <th>3</th>\n",
              "      <td>Train</td>\n",
              "    </tr>\n",
              "    <tr>\n",
              "      <th>4</th>\n",
              "      <td>Train</td>\n",
              "    </tr>\n",
              "    <tr>\n",
              "      <th>...</th>\n",
              "      <td>...</td>\n",
              "    </tr>\n",
              "    <tr>\n",
              "      <th>10294</th>\n",
              "      <td>Test</td>\n",
              "    </tr>\n",
              "    <tr>\n",
              "      <th>10295</th>\n",
              "      <td>Test</td>\n",
              "    </tr>\n",
              "    <tr>\n",
              "      <th>10296</th>\n",
              "      <td>Test</td>\n",
              "    </tr>\n",
              "    <tr>\n",
              "      <th>10297</th>\n",
              "      <td>Test</td>\n",
              "    </tr>\n",
              "    <tr>\n",
              "      <th>10298</th>\n",
              "      <td>Test</td>\n",
              "    </tr>\n",
              "  </tbody>\n",
              "</table>\n",
              "<p>10299 rows × 1 columns</p>\n",
              "</div>"
            ],
            "text/plain": [
              "        Data\n",
              "0      Train\n",
              "1      Train\n",
              "2      Train\n",
              "3      Train\n",
              "4      Train\n",
              "...      ...\n",
              "10294   Test\n",
              "10295   Test\n",
              "10296   Test\n",
              "10297   Test\n",
              "10298   Test\n",
              "\n",
              "[10299 rows x 1 columns]"
            ]
          },
          "execution_count": 107,
          "metadata": {},
          "output_type": "execute_result"
        }
      ],
      "source": [
        "df_sensor_activity.loc[:,['Data']]"
      ]
    },
    {
      "cell_type": "markdown",
      "id": "8de5204b",
      "metadata": {
        "id": "8de5204b"
      },
      "source": [
        "#### Let's check the null values "
      ]
    },
    {
      "cell_type": "code",
      "execution_count": null,
      "id": "b3e6402d",
      "metadata": {
        "id": "b3e6402d",
        "outputId": "87923104-f159-4fb2-898d-13af7ba444a8"
      },
      "outputs": [
        {
          "data": {
            "text/html": [
              "<div>\n",
              "<style scoped>\n",
              "    .dataframe tbody tr th:only-of-type {\n",
              "        vertical-align: middle;\n",
              "    }\n",
              "\n",
              "    .dataframe tbody tr th {\n",
              "        vertical-align: top;\n",
              "    }\n",
              "\n",
              "    .dataframe thead th {\n",
              "        text-align: right;\n",
              "    }\n",
              "</style>\n",
              "<table border=\"1\" class=\"dataframe\">\n",
              "  <thead>\n",
              "    <tr style=\"text-align: right;\">\n",
              "      <th></th>\n",
              "      <th>Total</th>\n",
              "      <th>Percentage of Missing Values</th>\n",
              "    </tr>\n",
              "  </thead>\n",
              "  <tbody>\n",
              "    <tr>\n",
              "      <th>tBodyAcc-mean()-X</th>\n",
              "      <td>0</td>\n",
              "      <td>0.0</td>\n",
              "    </tr>\n",
              "    <tr>\n",
              "      <th>fBodyAccJerk-skewness()-Z</th>\n",
              "      <td>0</td>\n",
              "      <td>0.0</td>\n",
              "    </tr>\n",
              "    <tr>\n",
              "      <th>fBodyAccJerk-meanFreq()-Y</th>\n",
              "      <td>0</td>\n",
              "      <td>0.0</td>\n",
              "    </tr>\n",
              "    <tr>\n",
              "      <th>fBodyAccJerk-meanFreq()-Z</th>\n",
              "      <td>0</td>\n",
              "      <td>0.0</td>\n",
              "    </tr>\n",
              "    <tr>\n",
              "      <th>fBodyAccJerk-skewness()-X</th>\n",
              "      <td>0</td>\n",
              "      <td>0.0</td>\n",
              "    </tr>\n",
              "    <tr>\n",
              "      <th>...</th>\n",
              "      <td>...</td>\n",
              "      <td>...</td>\n",
              "    </tr>\n",
              "    <tr>\n",
              "      <th>tBodyGyroJerk-iqr()-Z</th>\n",
              "      <td>0</td>\n",
              "      <td>0.0</td>\n",
              "    </tr>\n",
              "    <tr>\n",
              "      <th>tBodyGyroJerk-iqr()-Y</th>\n",
              "      <td>0</td>\n",
              "      <td>0.0</td>\n",
              "    </tr>\n",
              "    <tr>\n",
              "      <th>tBodyGyroJerk-iqr()-X</th>\n",
              "      <td>0</td>\n",
              "      <td>0.0</td>\n",
              "    </tr>\n",
              "    <tr>\n",
              "      <th>tBodyGyroJerk-energy()-Z</th>\n",
              "      <td>0</td>\n",
              "      <td>0.0</td>\n",
              "    </tr>\n",
              "    <tr>\n",
              "      <th>Data</th>\n",
              "      <td>0</td>\n",
              "      <td>0.0</td>\n",
              "    </tr>\n",
              "  </tbody>\n",
              "</table>\n",
              "<p>564 rows × 2 columns</p>\n",
              "</div>"
            ],
            "text/plain": [
              "                           Total  Percentage of Missing Values\n",
              "tBodyAcc-mean()-X              0                           0.0\n",
              "fBodyAccJerk-skewness()-Z      0                           0.0\n",
              "fBodyAccJerk-meanFreq()-Y      0                           0.0\n",
              "fBodyAccJerk-meanFreq()-Z      0                           0.0\n",
              "fBodyAccJerk-skewness()-X      0                           0.0\n",
              "...                          ...                           ...\n",
              "tBodyGyroJerk-iqr()-Z          0                           0.0\n",
              "tBodyGyroJerk-iqr()-Y          0                           0.0\n",
              "tBodyGyroJerk-iqr()-X          0                           0.0\n",
              "tBodyGyroJerk-energy()-Z       0                           0.0\n",
              "Data                           0                           0.0\n",
              "\n",
              "[564 rows x 2 columns]"
            ]
          },
          "execution_count": 108,
          "metadata": {},
          "output_type": "execute_result"
        }
      ],
      "source": [
        "#Let's check the null values \n",
        "number_of_missing_values = df_sensor_activity.isna().sum().sort_values(ascending=False)          \n",
        "percentage_of_missing_values = (df_sensor_activity.isna().sum()*100/df_sensor_activity.isna().count()).sort_values(ascending=False)   \n",
        "missing_data = pd.concat([number_of_missing_values,percentage_of_missing_values], axis = 1, keys = ['Total', 'Percentage of Missing Values'])    \n",
        "missing_data"
      ]
    },
    {
      "cell_type": "markdown",
      "id": "47946c9e",
      "metadata": {
        "id": "47946c9e"
      },
      "source": [
        "#### No null value is present here"
      ]
    },
    {
      "cell_type": "code",
      "execution_count": null,
      "id": "35b9f34c",
      "metadata": {
        "id": "35b9f34c"
      },
      "outputs": [],
      "source": [
        "#Changing the  numeric  to categorical\n",
        "\n",
        "df_sensor_activity['subject'] = df_sensor_activity['subject'].astype('object')"
      ]
    },
    {
      "cell_type": "markdown",
      "id": "52a2b446",
      "metadata": {
        "id": "52a2b446"
      },
      "source": [
        "#### Let's extract all the categorical columns for the further Analysis"
      ]
    },
    {
      "cell_type": "code",
      "execution_count": null,
      "id": "892348fe",
      "metadata": {
        "id": "892348fe"
      },
      "outputs": [],
      "source": [
        "#Let's extract all the categorical columns for the further Analysis\n",
        "df_sensor_activity_categorical=df_sensor_activity.select_dtypes(object)"
      ]
    },
    {
      "cell_type": "markdown",
      "id": "0a29648c",
      "metadata": {
        "id": "0a29648c"
      },
      "source": [
        "#### Let's extract all the the numerical columns for the further Analysis"
      ]
    },
    {
      "cell_type": "code",
      "execution_count": null,
      "id": "614fe516",
      "metadata": {
        "id": "614fe516"
      },
      "outputs": [],
      "source": [
        "#Let's extract all the the numerical columns for the further Analysis\n",
        "df_sensor_activity_numerical=df_sensor_activity.select_dtypes(include=np.number)"
      ]
    },
    {
      "cell_type": "code",
      "execution_count": null,
      "id": "ddc3afdc",
      "metadata": {
        "id": "ddc3afdc"
      },
      "outputs": [],
      "source": [
        "categorical_columns=df_sensor_activity_categorical.columns\n",
        "numerical_columns=df_sensor_activity_numerical.columns\n"
      ]
    },
    {
      "cell_type": "code",
      "execution_count": null,
      "id": "8e417ca8",
      "metadata": {
        "id": "8e417ca8",
        "outputId": "ea98276b-6b67-4e0e-bc80-cb818da484a3"
      },
      "outputs": [
        {
          "name": "stdout",
          "output_type": "stream",
          "text": [
            "The number of categorical columns is:  3\n",
            "The columns are: ['subject', 'Activity', 'Data']\n"
          ]
        }
      ],
      "source": [
        "print(\"The number of categorical columns is: \",len(categorical_columns))\n",
        "print(\"The columns are:\",list(categorical_columns))"
      ]
    },
    {
      "cell_type": "code",
      "execution_count": null,
      "id": "8ce2d1ef",
      "metadata": {
        "id": "8ce2d1ef",
        "outputId": "a0b492c2-43df-4901-cbc5-d14efafccfb4"
      },
      "outputs": [
        {
          "name": "stdout",
          "output_type": "stream",
          "text": [
            "The number of numerical columns is:  561\n",
            "The columns are: ['tBodyAcc-mean()-X', 'tBodyAcc-mean()-Y', 'tBodyAcc-mean()-Z', 'tBodyAcc-std()-X', 'tBodyAcc-std()-Y', 'tBodyAcc-std()-Z', 'tBodyAcc-mad()-X', 'tBodyAcc-mad()-Y', 'tBodyAcc-mad()-Z', 'tBodyAcc-max()-X', 'tBodyAcc-max()-Y', 'tBodyAcc-max()-Z', 'tBodyAcc-min()-X', 'tBodyAcc-min()-Y', 'tBodyAcc-min()-Z', 'tBodyAcc-sma()', 'tBodyAcc-energy()-X', 'tBodyAcc-energy()-Y', 'tBodyAcc-energy()-Z', 'tBodyAcc-iqr()-X', 'tBodyAcc-iqr()-Y', 'tBodyAcc-iqr()-Z', 'tBodyAcc-entropy()-X', 'tBodyAcc-entropy()-Y', 'tBodyAcc-entropy()-Z', 'tBodyAcc-arCoeff()-X,1', 'tBodyAcc-arCoeff()-X,2', 'tBodyAcc-arCoeff()-X,3', 'tBodyAcc-arCoeff()-X,4', 'tBodyAcc-arCoeff()-Y,1', 'tBodyAcc-arCoeff()-Y,2', 'tBodyAcc-arCoeff()-Y,3', 'tBodyAcc-arCoeff()-Y,4', 'tBodyAcc-arCoeff()-Z,1', 'tBodyAcc-arCoeff()-Z,2', 'tBodyAcc-arCoeff()-Z,3', 'tBodyAcc-arCoeff()-Z,4', 'tBodyAcc-correlation()-X,Y', 'tBodyAcc-correlation()-X,Z', 'tBodyAcc-correlation()-Y,Z', 'tGravityAcc-mean()-X', 'tGravityAcc-mean()-Y', 'tGravityAcc-mean()-Z', 'tGravityAcc-std()-X', 'tGravityAcc-std()-Y', 'tGravityAcc-std()-Z', 'tGravityAcc-mad()-X', 'tGravityAcc-mad()-Y', 'tGravityAcc-mad()-Z', 'tGravityAcc-max()-X', 'tGravityAcc-max()-Y', 'tGravityAcc-max()-Z', 'tGravityAcc-min()-X', 'tGravityAcc-min()-Y', 'tGravityAcc-min()-Z', 'tGravityAcc-sma()', 'tGravityAcc-energy()-X', 'tGravityAcc-energy()-Y', 'tGravityAcc-energy()-Z', 'tGravityAcc-iqr()-X', 'tGravityAcc-iqr()-Y', 'tGravityAcc-iqr()-Z', 'tGravityAcc-entropy()-X', 'tGravityAcc-entropy()-Y', 'tGravityAcc-entropy()-Z', 'tGravityAcc-arCoeff()-X,1', 'tGravityAcc-arCoeff()-X,2', 'tGravityAcc-arCoeff()-X,3', 'tGravityAcc-arCoeff()-X,4', 'tGravityAcc-arCoeff()-Y,1', 'tGravityAcc-arCoeff()-Y,2', 'tGravityAcc-arCoeff()-Y,3', 'tGravityAcc-arCoeff()-Y,4', 'tGravityAcc-arCoeff()-Z,1', 'tGravityAcc-arCoeff()-Z,2', 'tGravityAcc-arCoeff()-Z,3', 'tGravityAcc-arCoeff()-Z,4', 'tGravityAcc-correlation()-X,Y', 'tGravityAcc-correlation()-X,Z', 'tGravityAcc-correlation()-Y,Z', 'tBodyAccJerk-mean()-X', 'tBodyAccJerk-mean()-Y', 'tBodyAccJerk-mean()-Z', 'tBodyAccJerk-std()-X', 'tBodyAccJerk-std()-Y', 'tBodyAccJerk-std()-Z', 'tBodyAccJerk-mad()-X', 'tBodyAccJerk-mad()-Y', 'tBodyAccJerk-mad()-Z', 'tBodyAccJerk-max()-X', 'tBodyAccJerk-max()-Y', 'tBodyAccJerk-max()-Z', 'tBodyAccJerk-min()-X', 'tBodyAccJerk-min()-Y', 'tBodyAccJerk-min()-Z', 'tBodyAccJerk-sma()', 'tBodyAccJerk-energy()-X', 'tBodyAccJerk-energy()-Y', 'tBodyAccJerk-energy()-Z', 'tBodyAccJerk-iqr()-X', 'tBodyAccJerk-iqr()-Y', 'tBodyAccJerk-iqr()-Z', 'tBodyAccJerk-entropy()-X', 'tBodyAccJerk-entropy()-Y', 'tBodyAccJerk-entropy()-Z', 'tBodyAccJerk-arCoeff()-X,1', 'tBodyAccJerk-arCoeff()-X,2', 'tBodyAccJerk-arCoeff()-X,3', 'tBodyAccJerk-arCoeff()-X,4', 'tBodyAccJerk-arCoeff()-Y,1', 'tBodyAccJerk-arCoeff()-Y,2', 'tBodyAccJerk-arCoeff()-Y,3', 'tBodyAccJerk-arCoeff()-Y,4', 'tBodyAccJerk-arCoeff()-Z,1', 'tBodyAccJerk-arCoeff()-Z,2', 'tBodyAccJerk-arCoeff()-Z,3', 'tBodyAccJerk-arCoeff()-Z,4', 'tBodyAccJerk-correlation()-X,Y', 'tBodyAccJerk-correlation()-X,Z', 'tBodyAccJerk-correlation()-Y,Z', 'tBodyGyro-mean()-X', 'tBodyGyro-mean()-Y', 'tBodyGyro-mean()-Z', 'tBodyGyro-std()-X', 'tBodyGyro-std()-Y', 'tBodyGyro-std()-Z', 'tBodyGyro-mad()-X', 'tBodyGyro-mad()-Y', 'tBodyGyro-mad()-Z', 'tBodyGyro-max()-X', 'tBodyGyro-max()-Y', 'tBodyGyro-max()-Z', 'tBodyGyro-min()-X', 'tBodyGyro-min()-Y', 'tBodyGyro-min()-Z', 'tBodyGyro-sma()', 'tBodyGyro-energy()-X', 'tBodyGyro-energy()-Y', 'tBodyGyro-energy()-Z', 'tBodyGyro-iqr()-X', 'tBodyGyro-iqr()-Y', 'tBodyGyro-iqr()-Z', 'tBodyGyro-entropy()-X', 'tBodyGyro-entropy()-Y', 'tBodyGyro-entropy()-Z', 'tBodyGyro-arCoeff()-X,1', 'tBodyGyro-arCoeff()-X,2', 'tBodyGyro-arCoeff()-X,3', 'tBodyGyro-arCoeff()-X,4', 'tBodyGyro-arCoeff()-Y,1', 'tBodyGyro-arCoeff()-Y,2', 'tBodyGyro-arCoeff()-Y,3', 'tBodyGyro-arCoeff()-Y,4', 'tBodyGyro-arCoeff()-Z,1', 'tBodyGyro-arCoeff()-Z,2', 'tBodyGyro-arCoeff()-Z,3', 'tBodyGyro-arCoeff()-Z,4', 'tBodyGyro-correlation()-X,Y', 'tBodyGyro-correlation()-X,Z', 'tBodyGyro-correlation()-Y,Z', 'tBodyGyroJerk-mean()-X', 'tBodyGyroJerk-mean()-Y', 'tBodyGyroJerk-mean()-Z', 'tBodyGyroJerk-std()-X', 'tBodyGyroJerk-std()-Y', 'tBodyGyroJerk-std()-Z', 'tBodyGyroJerk-mad()-X', 'tBodyGyroJerk-mad()-Y', 'tBodyGyroJerk-mad()-Z', 'tBodyGyroJerk-max()-X', 'tBodyGyroJerk-max()-Y', 'tBodyGyroJerk-max()-Z', 'tBodyGyroJerk-min()-X', 'tBodyGyroJerk-min()-Y', 'tBodyGyroJerk-min()-Z', 'tBodyGyroJerk-sma()', 'tBodyGyroJerk-energy()-X', 'tBodyGyroJerk-energy()-Y', 'tBodyGyroJerk-energy()-Z', 'tBodyGyroJerk-iqr()-X', 'tBodyGyroJerk-iqr()-Y', 'tBodyGyroJerk-iqr()-Z', 'tBodyGyroJerk-entropy()-X', 'tBodyGyroJerk-entropy()-Y', 'tBodyGyroJerk-entropy()-Z', 'tBodyGyroJerk-arCoeff()-X,1', 'tBodyGyroJerk-arCoeff()-X,2', 'tBodyGyroJerk-arCoeff()-X,3', 'tBodyGyroJerk-arCoeff()-X,4', 'tBodyGyroJerk-arCoeff()-Y,1', 'tBodyGyroJerk-arCoeff()-Y,2', 'tBodyGyroJerk-arCoeff()-Y,3', 'tBodyGyroJerk-arCoeff()-Y,4', 'tBodyGyroJerk-arCoeff()-Z,1', 'tBodyGyroJerk-arCoeff()-Z,2', 'tBodyGyroJerk-arCoeff()-Z,3', 'tBodyGyroJerk-arCoeff()-Z,4', 'tBodyGyroJerk-correlation()-X,Y', 'tBodyGyroJerk-correlation()-X,Z', 'tBodyGyroJerk-correlation()-Y,Z', 'tBodyAccMag-mean()', 'tBodyAccMag-std()', 'tBodyAccMag-mad()', 'tBodyAccMag-max()', 'tBodyAccMag-min()', 'tBodyAccMag-sma()', 'tBodyAccMag-energy()', 'tBodyAccMag-iqr()', 'tBodyAccMag-entropy()', 'tBodyAccMag-arCoeff()1', 'tBodyAccMag-arCoeff()2', 'tBodyAccMag-arCoeff()3', 'tBodyAccMag-arCoeff()4', 'tGravityAccMag-mean()', 'tGravityAccMag-std()', 'tGravityAccMag-mad()', 'tGravityAccMag-max()', 'tGravityAccMag-min()', 'tGravityAccMag-sma()', 'tGravityAccMag-energy()', 'tGravityAccMag-iqr()', 'tGravityAccMag-entropy()', 'tGravityAccMag-arCoeff()1', 'tGravityAccMag-arCoeff()2', 'tGravityAccMag-arCoeff()3', 'tGravityAccMag-arCoeff()4', 'tBodyAccJerkMag-mean()', 'tBodyAccJerkMag-std()', 'tBodyAccJerkMag-mad()', 'tBodyAccJerkMag-max()', 'tBodyAccJerkMag-min()', 'tBodyAccJerkMag-sma()', 'tBodyAccJerkMag-energy()', 'tBodyAccJerkMag-iqr()', 'tBodyAccJerkMag-entropy()', 'tBodyAccJerkMag-arCoeff()1', 'tBodyAccJerkMag-arCoeff()2', 'tBodyAccJerkMag-arCoeff()3', 'tBodyAccJerkMag-arCoeff()4', 'tBodyGyroMag-mean()', 'tBodyGyroMag-std()', 'tBodyGyroMag-mad()', 'tBodyGyroMag-max()', 'tBodyGyroMag-min()', 'tBodyGyroMag-sma()', 'tBodyGyroMag-energy()', 'tBodyGyroMag-iqr()', 'tBodyGyroMag-entropy()', 'tBodyGyroMag-arCoeff()1', 'tBodyGyroMag-arCoeff()2', 'tBodyGyroMag-arCoeff()3', 'tBodyGyroMag-arCoeff()4', 'tBodyGyroJerkMag-mean()', 'tBodyGyroJerkMag-std()', 'tBodyGyroJerkMag-mad()', 'tBodyGyroJerkMag-max()', 'tBodyGyroJerkMag-min()', 'tBodyGyroJerkMag-sma()', 'tBodyGyroJerkMag-energy()', 'tBodyGyroJerkMag-iqr()', 'tBodyGyroJerkMag-entropy()', 'tBodyGyroJerkMag-arCoeff()1', 'tBodyGyroJerkMag-arCoeff()2', 'tBodyGyroJerkMag-arCoeff()3', 'tBodyGyroJerkMag-arCoeff()4', 'fBodyAcc-mean()-X', 'fBodyAcc-mean()-Y', 'fBodyAcc-mean()-Z', 'fBodyAcc-std()-X', 'fBodyAcc-std()-Y', 'fBodyAcc-std()-Z', 'fBodyAcc-mad()-X', 'fBodyAcc-mad()-Y', 'fBodyAcc-mad()-Z', 'fBodyAcc-max()-X', 'fBodyAcc-max()-Y', 'fBodyAcc-max()-Z', 'fBodyAcc-min()-X', 'fBodyAcc-min()-Y', 'fBodyAcc-min()-Z', 'fBodyAcc-sma()', 'fBodyAcc-energy()-X', 'fBodyAcc-energy()-Y', 'fBodyAcc-energy()-Z', 'fBodyAcc-iqr()-X', 'fBodyAcc-iqr()-Y', 'fBodyAcc-iqr()-Z', 'fBodyAcc-entropy()-X', 'fBodyAcc-entropy()-Y', 'fBodyAcc-entropy()-Z', 'fBodyAcc-maxInds-X', 'fBodyAcc-maxInds-Y', 'fBodyAcc-maxInds-Z', 'fBodyAcc-meanFreq()-X', 'fBodyAcc-meanFreq()-Y', 'fBodyAcc-meanFreq()-Z', 'fBodyAcc-skewness()-X', 'fBodyAcc-kurtosis()-X', 'fBodyAcc-skewness()-Y', 'fBodyAcc-kurtosis()-Y', 'fBodyAcc-skewness()-Z', 'fBodyAcc-kurtosis()-Z', 'fBodyAcc-bandsEnergy()-1,8', 'fBodyAcc-bandsEnergy()-9,16', 'fBodyAcc-bandsEnergy()-17,24', 'fBodyAcc-bandsEnergy()-25,32', 'fBodyAcc-bandsEnergy()-33,40', 'fBodyAcc-bandsEnergy()-41,48', 'fBodyAcc-bandsEnergy()-49,56', 'fBodyAcc-bandsEnergy()-57,64', 'fBodyAcc-bandsEnergy()-1,16', 'fBodyAcc-bandsEnergy()-17,32', 'fBodyAcc-bandsEnergy()-33,48', 'fBodyAcc-bandsEnergy()-49,64', 'fBodyAcc-bandsEnergy()-1,24', 'fBodyAcc-bandsEnergy()-25,48', 'fBodyAcc-bandsEnergy()-1,8.1', 'fBodyAcc-bandsEnergy()-9,16.1', 'fBodyAcc-bandsEnergy()-17,24.1', 'fBodyAcc-bandsEnergy()-25,32.1', 'fBodyAcc-bandsEnergy()-33,40.1', 'fBodyAcc-bandsEnergy()-41,48.1', 'fBodyAcc-bandsEnergy()-49,56.1', 'fBodyAcc-bandsEnergy()-57,64.1', 'fBodyAcc-bandsEnergy()-1,16.1', 'fBodyAcc-bandsEnergy()-17,32.1', 'fBodyAcc-bandsEnergy()-33,48.1', 'fBodyAcc-bandsEnergy()-49,64.1', 'fBodyAcc-bandsEnergy()-1,24.1', 'fBodyAcc-bandsEnergy()-25,48.1', 'fBodyAcc-bandsEnergy()-1,8.2', 'fBodyAcc-bandsEnergy()-9,16.2', 'fBodyAcc-bandsEnergy()-17,24.2', 'fBodyAcc-bandsEnergy()-25,32.2', 'fBodyAcc-bandsEnergy()-33,40.2', 'fBodyAcc-bandsEnergy()-41,48.2', 'fBodyAcc-bandsEnergy()-49,56.2', 'fBodyAcc-bandsEnergy()-57,64.2', 'fBodyAcc-bandsEnergy()-1,16.2', 'fBodyAcc-bandsEnergy()-17,32.2', 'fBodyAcc-bandsEnergy()-33,48.2', 'fBodyAcc-bandsEnergy()-49,64.2', 'fBodyAcc-bandsEnergy()-1,24.2', 'fBodyAcc-bandsEnergy()-25,48.2', 'fBodyAccJerk-mean()-X', 'fBodyAccJerk-mean()-Y', 'fBodyAccJerk-mean()-Z', 'fBodyAccJerk-std()-X', 'fBodyAccJerk-std()-Y', 'fBodyAccJerk-std()-Z', 'fBodyAccJerk-mad()-X', 'fBodyAccJerk-mad()-Y', 'fBodyAccJerk-mad()-Z', 'fBodyAccJerk-max()-X', 'fBodyAccJerk-max()-Y', 'fBodyAccJerk-max()-Z', 'fBodyAccJerk-min()-X', 'fBodyAccJerk-min()-Y', 'fBodyAccJerk-min()-Z', 'fBodyAccJerk-sma()', 'fBodyAccJerk-energy()-X', 'fBodyAccJerk-energy()-Y', 'fBodyAccJerk-energy()-Z', 'fBodyAccJerk-iqr()-X', 'fBodyAccJerk-iqr()-Y', 'fBodyAccJerk-iqr()-Z', 'fBodyAccJerk-entropy()-X', 'fBodyAccJerk-entropy()-Y', 'fBodyAccJerk-entropy()-Z', 'fBodyAccJerk-maxInds-X', 'fBodyAccJerk-maxInds-Y', 'fBodyAccJerk-maxInds-Z', 'fBodyAccJerk-meanFreq()-X', 'fBodyAccJerk-meanFreq()-Y', 'fBodyAccJerk-meanFreq()-Z', 'fBodyAccJerk-skewness()-X', 'fBodyAccJerk-kurtosis()-X', 'fBodyAccJerk-skewness()-Y', 'fBodyAccJerk-kurtosis()-Y', 'fBodyAccJerk-skewness()-Z', 'fBodyAccJerk-kurtosis()-Z', 'fBodyAccJerk-bandsEnergy()-1,8', 'fBodyAccJerk-bandsEnergy()-9,16', 'fBodyAccJerk-bandsEnergy()-17,24', 'fBodyAccJerk-bandsEnergy()-25,32', 'fBodyAccJerk-bandsEnergy()-33,40', 'fBodyAccJerk-bandsEnergy()-41,48', 'fBodyAccJerk-bandsEnergy()-49,56', 'fBodyAccJerk-bandsEnergy()-57,64', 'fBodyAccJerk-bandsEnergy()-1,16', 'fBodyAccJerk-bandsEnergy()-17,32', 'fBodyAccJerk-bandsEnergy()-33,48', 'fBodyAccJerk-bandsEnergy()-49,64', 'fBodyAccJerk-bandsEnergy()-1,24', 'fBodyAccJerk-bandsEnergy()-25,48', 'fBodyAccJerk-bandsEnergy()-1,8.1', 'fBodyAccJerk-bandsEnergy()-9,16.1', 'fBodyAccJerk-bandsEnergy()-17,24.1', 'fBodyAccJerk-bandsEnergy()-25,32.1', 'fBodyAccJerk-bandsEnergy()-33,40.1', 'fBodyAccJerk-bandsEnergy()-41,48.1', 'fBodyAccJerk-bandsEnergy()-49,56.1', 'fBodyAccJerk-bandsEnergy()-57,64.1', 'fBodyAccJerk-bandsEnergy()-1,16.1', 'fBodyAccJerk-bandsEnergy()-17,32.1', 'fBodyAccJerk-bandsEnergy()-33,48.1', 'fBodyAccJerk-bandsEnergy()-49,64.1', 'fBodyAccJerk-bandsEnergy()-1,24.1', 'fBodyAccJerk-bandsEnergy()-25,48.1', 'fBodyAccJerk-bandsEnergy()-1,8.2', 'fBodyAccJerk-bandsEnergy()-9,16.2', 'fBodyAccJerk-bandsEnergy()-17,24.2', 'fBodyAccJerk-bandsEnergy()-25,32.2', 'fBodyAccJerk-bandsEnergy()-33,40.2', 'fBodyAccJerk-bandsEnergy()-41,48.2', 'fBodyAccJerk-bandsEnergy()-49,56.2', 'fBodyAccJerk-bandsEnergy()-57,64.2', 'fBodyAccJerk-bandsEnergy()-1,16.2', 'fBodyAccJerk-bandsEnergy()-17,32.2', 'fBodyAccJerk-bandsEnergy()-33,48.2', 'fBodyAccJerk-bandsEnergy()-49,64.2', 'fBodyAccJerk-bandsEnergy()-1,24.2', 'fBodyAccJerk-bandsEnergy()-25,48.2', 'fBodyGyro-mean()-X', 'fBodyGyro-mean()-Y', 'fBodyGyro-mean()-Z', 'fBodyGyro-std()-X', 'fBodyGyro-std()-Y', 'fBodyGyro-std()-Z', 'fBodyGyro-mad()-X', 'fBodyGyro-mad()-Y', 'fBodyGyro-mad()-Z', 'fBodyGyro-max()-X', 'fBodyGyro-max()-Y', 'fBodyGyro-max()-Z', 'fBodyGyro-min()-X', 'fBodyGyro-min()-Y', 'fBodyGyro-min()-Z', 'fBodyGyro-sma()', 'fBodyGyro-energy()-X', 'fBodyGyro-energy()-Y', 'fBodyGyro-energy()-Z', 'fBodyGyro-iqr()-X', 'fBodyGyro-iqr()-Y', 'fBodyGyro-iqr()-Z', 'fBodyGyro-entropy()-X', 'fBodyGyro-entropy()-Y', 'fBodyGyro-entropy()-Z', 'fBodyGyro-maxInds-X', 'fBodyGyro-maxInds-Y', 'fBodyGyro-maxInds-Z', 'fBodyGyro-meanFreq()-X', 'fBodyGyro-meanFreq()-Y', 'fBodyGyro-meanFreq()-Z', 'fBodyGyro-skewness()-X', 'fBodyGyro-kurtosis()-X', 'fBodyGyro-skewness()-Y', 'fBodyGyro-kurtosis()-Y', 'fBodyGyro-skewness()-Z', 'fBodyGyro-kurtosis()-Z', 'fBodyGyro-bandsEnergy()-1,8', 'fBodyGyro-bandsEnergy()-9,16', 'fBodyGyro-bandsEnergy()-17,24', 'fBodyGyro-bandsEnergy()-25,32', 'fBodyGyro-bandsEnergy()-33,40', 'fBodyGyro-bandsEnergy()-41,48', 'fBodyGyro-bandsEnergy()-49,56', 'fBodyGyro-bandsEnergy()-57,64', 'fBodyGyro-bandsEnergy()-1,16', 'fBodyGyro-bandsEnergy()-17,32', 'fBodyGyro-bandsEnergy()-33,48', 'fBodyGyro-bandsEnergy()-49,64', 'fBodyGyro-bandsEnergy()-1,24', 'fBodyGyro-bandsEnergy()-25,48', 'fBodyGyro-bandsEnergy()-1,8.1', 'fBodyGyro-bandsEnergy()-9,16.1', 'fBodyGyro-bandsEnergy()-17,24.1', 'fBodyGyro-bandsEnergy()-25,32.1', 'fBodyGyro-bandsEnergy()-33,40.1', 'fBodyGyro-bandsEnergy()-41,48.1', 'fBodyGyro-bandsEnergy()-49,56.1', 'fBodyGyro-bandsEnergy()-57,64.1', 'fBodyGyro-bandsEnergy()-1,16.1', 'fBodyGyro-bandsEnergy()-17,32.1', 'fBodyGyro-bandsEnergy()-33,48.1', 'fBodyGyro-bandsEnergy()-49,64.1', 'fBodyGyro-bandsEnergy()-1,24.1', 'fBodyGyro-bandsEnergy()-25,48.1', 'fBodyGyro-bandsEnergy()-1,8.2', 'fBodyGyro-bandsEnergy()-9,16.2', 'fBodyGyro-bandsEnergy()-17,24.2', 'fBodyGyro-bandsEnergy()-25,32.2', 'fBodyGyro-bandsEnergy()-33,40.2', 'fBodyGyro-bandsEnergy()-41,48.2', 'fBodyGyro-bandsEnergy()-49,56.2', 'fBodyGyro-bandsEnergy()-57,64.2', 'fBodyGyro-bandsEnergy()-1,16.2', 'fBodyGyro-bandsEnergy()-17,32.2', 'fBodyGyro-bandsEnergy()-33,48.2', 'fBodyGyro-bandsEnergy()-49,64.2', 'fBodyGyro-bandsEnergy()-1,24.2', 'fBodyGyro-bandsEnergy()-25,48.2', 'fBodyAccMag-mean()', 'fBodyAccMag-std()', 'fBodyAccMag-mad()', 'fBodyAccMag-max()', 'fBodyAccMag-min()', 'fBodyAccMag-sma()', 'fBodyAccMag-energy()', 'fBodyAccMag-iqr()', 'fBodyAccMag-entropy()', 'fBodyAccMag-maxInds', 'fBodyAccMag-meanFreq()', 'fBodyAccMag-skewness()', 'fBodyAccMag-kurtosis()', 'fBodyBodyAccJerkMag-mean()', 'fBodyBodyAccJerkMag-std()', 'fBodyBodyAccJerkMag-mad()', 'fBodyBodyAccJerkMag-max()', 'fBodyBodyAccJerkMag-min()', 'fBodyBodyAccJerkMag-sma()', 'fBodyBodyAccJerkMag-energy()', 'fBodyBodyAccJerkMag-iqr()', 'fBodyBodyAccJerkMag-entropy()', 'fBodyBodyAccJerkMag-maxInds', 'fBodyBodyAccJerkMag-meanFreq()', 'fBodyBodyAccJerkMag-skewness()', 'fBodyBodyAccJerkMag-kurtosis()', 'fBodyBodyGyroMag-mean()', 'fBodyBodyGyroMag-std()', 'fBodyBodyGyroMag-mad()', 'fBodyBodyGyroMag-max()', 'fBodyBodyGyroMag-min()', 'fBodyBodyGyroMag-sma()', 'fBodyBodyGyroMag-energy()', 'fBodyBodyGyroMag-iqr()', 'fBodyBodyGyroMag-entropy()', 'fBodyBodyGyroMag-maxInds', 'fBodyBodyGyroMag-meanFreq()', 'fBodyBodyGyroMag-skewness()', 'fBodyBodyGyroMag-kurtosis()', 'fBodyBodyGyroJerkMag-mean()', 'fBodyBodyGyroJerkMag-std()', 'fBodyBodyGyroJerkMag-mad()', 'fBodyBodyGyroJerkMag-max()', 'fBodyBodyGyroJerkMag-min()', 'fBodyBodyGyroJerkMag-sma()', 'fBodyBodyGyroJerkMag-energy()', 'fBodyBodyGyroJerkMag-iqr()', 'fBodyBodyGyroJerkMag-entropy()', 'fBodyBodyGyroJerkMag-maxInds', 'fBodyBodyGyroJerkMag-meanFreq()', 'fBodyBodyGyroJerkMag-skewness()', 'fBodyBodyGyroJerkMag-kurtosis()', 'angle(tBodyAccMean,gravity)', 'angle(tBodyAccJerkMean),gravityMean)', 'angle(tBodyGyroMean,gravityMean)', 'angle(tBodyGyroJerkMean,gravityMean)', 'angle(X,gravityMean)', 'angle(Y,gravityMean)', 'angle(Z,gravityMean)']\n"
          ]
        }
      ],
      "source": [
        "print(\"The number of numerical columns is: \",len(numerical_columns))\n",
        "print(\"The columns are:\",list(numerical_columns))"
      ]
    },
    {
      "cell_type": "markdown",
      "id": "4493060a",
      "metadata": {
        "id": "4493060a"
      },
      "source": [
        "#### There are 42 columns whose name apeared three times. But the column values are all different. \n",
        "#### Assumption: represent three-dimensions. Renaming the columns.\n",
        "\n",
        "#### There are also 20 columns with same values which can be removed.\n",
        "First ten feature names are shown below:\n",
        "\n",
        "\"tBodyAcc-mean()-X\" \"tBodyAcc-mean()-Y\" \"tBodyAcc-mean()-Z\"\n",
        "\"tBodyAcc-std()-X\"  \"tBodyAcc-std()-Y\"  \"tBodyAcc-std()-Z\" \n",
        "\"tBodyAcc-mad()-X\"  \"tBodyAcc-mad()-Y\"  \"tBodyAcc-mad()-Z\" \n",
        "\"tBodyAcc-max()-X\""
      ]
    },
    {
      "cell_type": "markdown",
      "id": "7f945908",
      "metadata": {
        "id": "7f945908"
      },
      "source": [
        "#### The number of features is more than 500, we will apply the feature reduction technique PCA to reduce the features and try to build the model with minimum features. Here, we will focus on walking-related activities which are good for a healthy body & mind"
      ]
    },
    {
      "cell_type": "markdown",
      "id": "415ca90a",
      "metadata": {
        "id": "415ca90a"
      },
      "source": [
        "### Distribution of total activities across various subjects"
      ]
    },
    {
      "cell_type": "code",
      "execution_count": null,
      "id": "a38dee95",
      "metadata": {
        "id": "a38dee95",
        "outputId": "47026eb6-2973-4598-8302-77fb9cb64806"
      },
      "outputs": [
        {
          "name": "stdout",
          "output_type": "stream",
          "text": [
            "Distribution of health monitoring device data of each Activity\n",
            "-----------------------------------\n",
            "LAYING                1944\n",
            "STANDING              1906\n",
            "SITTING               1777\n",
            "WALKING               1722\n",
            "WALKING_UPSTAIRS      1544\n",
            "WALKING_DOWNSTAIRS    1406\n",
            "Name: Activity, dtype: int64\n"
          ]
        },
        {
          "data": {
            "image/png": "[encoded data removed]",
            "text/plain": [
              "<Figure size 864x432 with 1 Axes>"
            ]
          },
          "metadata": {
            "needs_background": "light"
          },
          "output_type": "display_data"
        }
      ],
      "source": [
        "print('Distribution of health monitoring device data of each Activity')\n",
        "print('-----------------------------------')\n",
        "print(df_sensor_activity_categorical['Activity'].value_counts())\n",
        "plt.rcParams['figure.figsize']=(12,6)\n",
        "df_sensor_activity_categorical['Activity'].value_counts().plot(kind='bar',color='b')\n",
        "plt.title('Pictorial distribution of Activity data ')\n",
        "plt.xlabel('Activity')\n",
        "plt.ylabel('Count of Individual Activity')\n",
        "plt.show()"
      ]
    },
    {
      "cell_type": "markdown",
      "id": "83310a6e",
      "metadata": {
        "id": "83310a6e"
      },
      "source": [
        "#### Top three activities are Laying, Standing & SItting whose values are collected in this dataset"
      ]
    },
    {
      "cell_type": "code",
      "execution_count": null,
      "id": "a125b496",
      "metadata": {
        "scrolled": true,
        "id": "a125b496",
        "outputId": "a0109b8b-cd73-46d9-d4e2-f0159e6c7d34"
      },
      "outputs": [
        {
          "name": "stdout",
          "output_type": "stream",
          "text": [
            "univariate analysis of Data\n",
            "-----------------------------------\n"
          ]
        },
        {
          "data": {
            "image/png": "[encoded data removed]",
            "text/plain": [
              "<Figure size 864x432 with 1 Axes>"
            ]
          },
          "metadata": {
            "needs_background": "light"
          },
          "output_type": "display_data"
        }
      ],
      "source": [
        "print('univariate analysis of Data')\n",
        "print('-----------------------------------')\n",
        "#print(df_sensor_activity_categorical['subject'].value_counts())\n",
        "plt.rcParams['figure.figsize']=(12,6)\n",
        "df_sensor_activity_categorical['subject'].value_counts().plot(kind='bar',color='b')\n",
        "plt.title('Pictorial Analysis of subject ')\n",
        "plt.xlabel('subject')\n",
        "plt.ylabel('Count of subject')\n",
        "plt.show()"
      ]
    },
    {
      "cell_type": "code",
      "execution_count": null,
      "id": "bd4cee32",
      "metadata": {
        "id": "bd4cee32",
        "outputId": "fe15d3c9-7387-4e97-8a81-5afd461dae6b"
      },
      "outputs": [
        {
          "data": {
            "text/plain": [
              "Index(['tBodyAcc-mean()-X', 'tBodyAcc-mean()-Y', 'tBodyAcc-mean()-Z',\n",
              "       'tBodyAcc-std()-X', 'tBodyAcc-std()-Y', 'tBodyAcc-std()-Z',\n",
              "       'tBodyAcc-mad()-X', 'tBodyAcc-mad()-Y', 'tBodyAcc-mad()-Z',\n",
              "       'tBodyAcc-max()-X',\n",
              "       ...\n",
              "       'angle(tBodyAccMean,gravity)', 'angle(tBodyAccJerkMean),gravityMean)',\n",
              "       'angle(tBodyGyroMean,gravityMean)',\n",
              "       'angle(tBodyGyroJerkMean,gravityMean)', 'angle(X,gravityMean)',\n",
              "       'angle(Y,gravityMean)', 'angle(Z,gravityMean)', 'subject', 'Activity',\n",
              "       'Data'],\n",
              "      dtype='object', length=564)"
            ]
          },
          "execution_count": 120,
          "metadata": {},
          "output_type": "execute_result"
        }
      ],
      "source": [
        "df_sensor_activity.columns"
      ]
    },
    {
      "cell_type": "markdown",
      "id": "b444ccda",
      "metadata": {
        "id": "b444ccda"
      },
      "source": [
        "### Number of Activities recorded for each subject"
      ]
    },
    {
      "cell_type": "code",
      "execution_count": null,
      "id": "b830d242",
      "metadata": {
        "id": "b830d242",
        "outputId": "e274bc7f-aed1-4bd4-e731-86b7b6a63431"
      },
      "outputs": [
        {
          "data": {
            "text/plain": [
              "<AxesSubplot:title={'center':'Activities recorded for each subject'}>"
            ]
          },
          "execution_count": 129,
          "metadata": {},
          "output_type": "execute_result"
        },
        {
          "data": {
            "image/png": "[encoded data removed]",
            "text/plain": [
              "<Figure size 1440x720 with 1 Axes>"
            ]
          },
          "metadata": {
            "needs_background": "light"
          },
          "output_type": "display_data"
        }
      ],
      "source": [
        "\n",
        "bank_job_ind=pd.DataFrame()\n",
        "bank_job_ind['LAYING']=df_sensor_activity_categorical[df_sensor_activity_categorical['Activity']=='LAYING']['subject'].value_counts()\n",
        "bank_job_ind['STANDING']=df_sensor_activity_categorical[df_sensor_activity_categorical['Activity']=='STANDING']['subject'].value_counts()\n",
        "bank_job_ind['SITTING']=df_sensor_activity_categorical[df_sensor_activity_categorical['Activity']=='SITTING']['subject'].value_counts()\n",
        "bank_job_ind['WALKING']=df_sensor_activity_categorical[df_sensor_activity_categorical['Activity']=='WALKING']['subject'].value_counts()\n",
        "bank_job_ind['WALKING UPSTAIRS']=df_sensor_activity_categorical[df_sensor_activity_categorical['Activity']=='WALKING_UPSTAIRS']['subject'].value_counts()\n",
        "bank_job_ind['WALKING DOWNSTAIRS']=df_sensor_activity_categorical[df_sensor_activity_categorical['Activity']=='WALKING_DOWNSTAIRS']['subject'].value_counts()\n",
        "\n",
        "bank_job_ind.plot(kind='bar',title='Activities recorded for each subject',fontsize=15, figsize=(20, 10))"
      ]
    },
    {
      "cell_type": "code",
      "execution_count": null,
      "id": "7f72e5b7",
      "metadata": {
        "id": "7f72e5b7"
      },
      "outputs": [],
      "source": []
    },
    {
      "cell_type": "markdown",
      "id": "ca82fdb7",
      "metadata": {
        "id": "ca82fdb7"
      },
      "source": [
        "#### Train and Test data are combined in one dataset"
      ]
    },
    {
      "cell_type": "markdown",
      "id": "40c965ad",
      "metadata": {
        "id": "40c965ad"
      },
      "source": [
        "#### For all practical purpose we will focus on walking related activities which are good for healthy body & mind"
      ]
    },
    {
      "cell_type": "code",
      "execution_count": null,
      "id": "7f4ac8ff",
      "metadata": {
        "id": "7f4ac8ff",
        "outputId": "a714669c-8619-480d-f346-3c8aabd4a2d3"
      },
      "outputs": [
        {
          "data": {
            "text/html": [
              "<div>\n",
              "<style scoped>\n",
              "    .dataframe tbody tr th:only-of-type {\n",
              "        vertical-align: middle;\n",
              "    }\n",
              "\n",
              "    .dataframe tbody tr th {\n",
              "        vertical-align: top;\n",
              "    }\n",
              "\n",
              "    .dataframe thead th {\n",
              "        text-align: right;\n",
              "    }\n",
              "</style>\n",
              "<table border=\"1\" class=\"dataframe\">\n",
              "  <thead>\n",
              "    <tr style=\"text-align: right;\">\n",
              "      <th></th>\n",
              "      <th>count</th>\n",
              "    </tr>\n",
              "  </thead>\n",
              "  <tbody>\n",
              "    <tr>\n",
              "      <th>fBodyGyro</th>\n",
              "      <td>79</td>\n",
              "    </tr>\n",
              "    <tr>\n",
              "      <th>fBodyAcc</th>\n",
              "      <td>79</td>\n",
              "    </tr>\n",
              "    <tr>\n",
              "      <th>fBodyAccJerk</th>\n",
              "      <td>79</td>\n",
              "    </tr>\n",
              "    <tr>\n",
              "      <th>tBodyAcc</th>\n",
              "      <td>40</td>\n",
              "    </tr>\n",
              "    <tr>\n",
              "      <th>tBodyAccJerk</th>\n",
              "      <td>40</td>\n",
              "    </tr>\n",
              "    <tr>\n",
              "      <th>tBodyGyro</th>\n",
              "      <td>40</td>\n",
              "    </tr>\n",
              "    <tr>\n",
              "      <th>tBodyGyroJerk</th>\n",
              "      <td>40</td>\n",
              "    </tr>\n",
              "    <tr>\n",
              "      <th>tGravityAcc</th>\n",
              "      <td>40</td>\n",
              "    </tr>\n",
              "    <tr>\n",
              "      <th>fBodyBodyGyroJerkMag</th>\n",
              "      <td>13</td>\n",
              "    </tr>\n",
              "    <tr>\n",
              "      <th>fBodyBodyGyroMag</th>\n",
              "      <td>13</td>\n",
              "    </tr>\n",
              "    <tr>\n",
              "      <th>fBodyBodyAccJerkMag</th>\n",
              "      <td>13</td>\n",
              "    </tr>\n",
              "    <tr>\n",
              "      <th>fBodyAccMag</th>\n",
              "      <td>13</td>\n",
              "    </tr>\n",
              "    <tr>\n",
              "      <th>tBodyGyroJerkMag</th>\n",
              "      <td>13</td>\n",
              "    </tr>\n",
              "    <tr>\n",
              "      <th>tBodyGyroMag</th>\n",
              "      <td>13</td>\n",
              "    </tr>\n",
              "    <tr>\n",
              "      <th>tBodyAccJerkMag</th>\n",
              "      <td>13</td>\n",
              "    </tr>\n",
              "    <tr>\n",
              "      <th>tGravityAccMag</th>\n",
              "      <td>13</td>\n",
              "    </tr>\n",
              "    <tr>\n",
              "      <th>tBodyAccMag</th>\n",
              "      <td>13</td>\n",
              "    </tr>\n",
              "    <tr>\n",
              "      <th>angle</th>\n",
              "      <td>7</td>\n",
              "    </tr>\n",
              "  </tbody>\n",
              "</table>\n",
              "</div>"
            ],
            "text/plain": [
              "                      count\n",
              "fBodyGyro                79\n",
              "fBodyAcc                 79\n",
              "fBodyAccJerk             79\n",
              "tBodyAcc                 40\n",
              "tBodyAccJerk             40\n",
              "tBodyGyro                40\n",
              "tBodyGyroJerk            40\n",
              "tGravityAcc              40\n",
              "fBodyBodyGyroJerkMag     13\n",
              "fBodyBodyGyroMag         13\n",
              "fBodyBodyAccJerkMag      13\n",
              "fBodyAccMag              13\n",
              "tBodyGyroJerkMag         13\n",
              "tBodyGyroMag             13\n",
              "tBodyAccJerkMag          13\n",
              "tGravityAccMag           13\n",
              "tBodyAccMag              13\n",
              "angle                     7"
            ]
          },
          "execution_count": 130,
          "metadata": {},
          "output_type": "execute_result"
        }
      ],
      "source": [
        "pd.DataFrame.from_dict(Counter([col.split('-')[0].split('(')[0] \n",
        "                                for col in df_sensor_activity_numerical.columns]), \n",
        "                       orient = 'index').rename(columns = {0:'count'}).sort_values('count',ascending=False)"
      ]
    },
    {
      "cell_type": "code",
      "execution_count": null,
      "id": "8c17554d",
      "metadata": {
        "id": "8c17554d",
        "outputId": "ec59e240-982e-4099-b037-f1bebaa24a71"
      },
      "outputs": [
        {
          "name": "stdout",
          "output_type": "stream",
          "text": [
            "LAYING                1944\n",
            "STANDING              1906\n",
            "SITTING               1777\n",
            "WALKING               1722\n",
            "WALKING_UPSTAIRS      1544\n",
            "WALKING_DOWNSTAIRS    1406\n",
            "Name: Activity, dtype: int64\n"
          ]
        }
      ],
      "source": [
        "label_counts = label.value_counts()\n",
        "print(label_counts)\n"
      ]
    },
    {
      "cell_type": "code",
      "execution_count": null,
      "id": "dfe8ea2c",
      "metadata": {
        "id": "dfe8ea2c"
      },
      "outputs": [],
      "source": [
        "#Store the data\n",
        "data = []\n",
        "#Iterate over each activity\n",
        "for activity in label_counts.index:\n",
        "    #Create dataset\n",
        "    act_data = df_sensor_activity[label==activity].copy()\n",
        "    act_data_data = act_data.pop('Data')\n",
        "    act_subject_data = act_data.pop('subject')"
      ]
    },
    {
      "cell_type": "code",
      "execution_count": null,
      "id": "1be6877e",
      "metadata": {
        "id": "1be6877e",
        "outputId": "3e70aa7a-6008-4ae3-822b-17ba1a822c89"
      },
      "outputs": [
        {
          "name": "stdout",
          "output_type": "stream",
          "text": [
            "125       1\n",
            "126       1\n",
            "127       1\n",
            "128       1\n",
            "129       1\n",
            "         ..\n",
            "10284    24\n",
            "10285    24\n",
            "10286    24\n",
            "10287    24\n",
            "10288    24\n",
            "Name: subject, Length: 1406, dtype: object\n",
            "125      Train\n",
            "126      Train\n",
            "127      Train\n",
            "128      Train\n",
            "129      Train\n",
            "         ...  \n",
            "10284     Test\n",
            "10285     Test\n",
            "10286     Test\n",
            "10287     Test\n",
            "10288     Test\n",
            "Name: Data, Length: 1406, dtype: object\n"
          ]
        }
      ],
      "source": [
        "print(act_subject_data)\n",
        "print(act_data_data)"
      ]
    },
    {
      "cell_type": "code",
      "execution_count": null,
      "id": "0e8052df",
      "metadata": {
        "id": "0e8052df"
      },
      "outputs": [],
      "source": [
        "# plt.figure(figsize=(30,20))\n",
        "# s=1\n",
        "# for p in numerical_columns:\n",
        "#     plt.subplot(4,3,s)\n",
        "#     sns.distplot(df_sensor_activity_numerical[p])\n",
        "#     s+=1"
      ]
    },
    {
      "cell_type": "markdown",
      "id": "4684dd39",
      "metadata": {
        "id": "4684dd39"
      },
      "source": [
        "#### Defining label variable = Activity for processing the rest of the data"
      ]
    },
    {
      "cell_type": "code",
      "execution_count": null,
      "id": "254636a1",
      "metadata": {
        "id": "254636a1"
      },
      "outputs": [],
      "source": [
        "label = df_sensor_activity.pop('Activity')"
      ]
    },
    {
      "cell_type": "code",
      "execution_count": null,
      "id": "2c84d419",
      "metadata": {
        "id": "2c84d419",
        "outputId": "d8f52739-2202-439d-d18a-8353f227aeb9"
      },
      "outputs": [
        {
          "data": {
            "text/plain": [
              "0                STANDING\n",
              "1                STANDING\n",
              "2                STANDING\n",
              "3                STANDING\n",
              "4                STANDING\n",
              "               ...       \n",
              "10294    WALKING_UPSTAIRS\n",
              "10295    WALKING_UPSTAIRS\n",
              "10296    WALKING_UPSTAIRS\n",
              "10297    WALKING_UPSTAIRS\n",
              "10298    WALKING_UPSTAIRS\n",
              "Name: Activity, Length: 10299, dtype: object"
            ]
          },
          "execution_count": 136,
          "metadata": {},
          "output_type": "execute_result"
        }
      ],
      "source": [
        "label"
      ]
    },
    {
      "cell_type": "markdown",
      "id": "176dbb45",
      "metadata": {
        "id": "176dbb45"
      },
      "source": [
        "### Creating duration dataframe"
      ]
    },
    {
      "cell_type": "code",
      "execution_count": null,
      "id": "96046d1a",
      "metadata": {
        "id": "96046d1a",
        "outputId": "7e7cb3bd-c26b-44f1-ec8a-f8d1a92e91a4"
      },
      "outputs": [
        {
          "data": {
            "text/plain": [
              "(1, 1)"
            ]
          },
          "execution_count": 143,
          "metadata": {},
          "output_type": "execute_result"
        }
      ],
      "source": [
        "#Create duration dataframe\n",
        "duration_df = (df_sensor_activity.groupby([label,subject_data])['Data'].count().reset_index().groupby('Activity').agg({'Data':'mean'})*1.28).rename(columns = {'Data':'Seconds'})\n",
        "activity_df = pd.DataFrame(data, columns=['Activity']).set_index('Activity')\n",
        "activity_df.join(duration_df)\n",
        "duration_df.shape"
      ]
    },
    {
      "cell_type": "markdown",
      "id": "5ed00634",
      "metadata": {
        "id": "5ed00634"
      },
      "source": [
        "### Sensor Importance For Classifying Participants by Walking Style "
      ]
    },
    {
      "cell_type": "code",
      "execution_count": null,
      "id": "9e00eb70",
      "metadata": {
        "id": "9e00eb70",
        "outputId": "ed05e0cc-7127-4abb-cb87-976afdc9ef2d"
      },
      "outputs": [
        {
          "data": {
            "image/png": "[encoded data removed]",
            "text/plain": [
              "<Figure size 1008x288 with 1 Axes>"
            ]
          },
          "metadata": {
            "needs_background": "light"
          },
          "output_type": "display_data"
        }
      ],
      "source": [
        "# Create dataset\n",
        "tsne_data = df_sensor_activity[label=='WALKING'].copy()\n",
        "data_data = tsne_data.pop('Data')\n",
        "subject_data = tsne_data.pop('subject')\n",
        "\n",
        "# Scale data\n",
        "scl = StandardScaler()\n",
        "tsne_data = scl.fit_transform(tsne_data)\n",
        "\n",
        "# Split training testing data\n",
        "enc = LabelEncoder()\n",
        "label_encoded = enc.fit_transform(subject_data)\n",
        "X_train, X_test, y_train, y_test = train_test_split(tsne_data, label_encoded, random_state=3)\n",
        "\n",
        "\n",
        "# Create model\n",
        "lgbm = LGBMClassifier(n_estimators=500, random_state=3)\n",
        "lgbm = lgbm.fit(X_train, y_train)\n",
        "\n",
        "# Get importances\n",
        "features = tt_df.drop(['Data', 'subject'], axis=1).columns\n",
        "importances = lgbm.feature_importances_\n",
        "\n",
        "# Sum importances\n",
        "data = {'Gyroscope':0, 'Accelerometer':0}\n",
        "for importance, feature in zip(importances, features):\n",
        "    if 'Gyro' in feature:\n",
        "        data['Gyroscope'] += importance\n",
        "    if 'Acc' in feature:\n",
        "        data['Accelerometer'] += importance\n",
        "        \n",
        "# Create dataframe and plot\n",
        "sensor_df = pd.DataFrame.from_dict(data, orient='index').rename(columns={0:'Importance'})\n",
        "sensor_df.plot(kind='barh', figsize=(14,4), title='Sensor Importance For Classifing Participants By Walking Style (Feature Importance Sum)')\n",
        "plt.show()"
      ]
    },
    {
      "cell_type": "code",
      "source": [],
      "metadata": {
        "id": "LAPtir7PnWX9"
      },
      "id": "LAPtir7PnWX9",
      "execution_count": null,
      "outputs": []
    }
  ],
  "metadata": {
    "kernelspec": {
      "display_name": "Python 3 (ipykernel)",
      "language": "python",
      "name": "python3"
    },
    "language_info": {
      "codemirror_mode": {
        "name": "ipython",
        "version": 3
      },
      "file_extension": ".py",
      "mimetype": "text/x-python",
      "name": "python",
      "nbconvert_exporter": "python",
      "pygments_lexer": "ipython3",
      "version": "3.9.12"
    },
    "colab": {
      "provenance": [],
      "collapsed_sections": [
        "ca82fdb7"
      ],
      "toc_visible": true
    }
  },
  "nbformat": 4,
  "nbformat_minor": 5
}