{
  "cells": [
    {
      "cell_type": "markdown",
      "id": "bc38510c",
      "metadata": {
        "id": "bc38510c"
      },
      "source": [
        "### Generating fake profiles using rule - “People between the ages 10-35 who have Asthma”"
      ]
    },
    {
      "cell_type": "code",
      "execution_count": 1,
      "id": "c6d491ef",
      "metadata": {
        "id": "c6d491ef"
      },
      "outputs": [],
      "source": [
        "profile = {'profile1' : \"People between the ages 10-35 who have Asthma\"}"
      ]
    },
    {
      "cell_type": "markdown",
      "id": "b614994d",
      "metadata": {
        "id": "b614994d"
      },
      "source": [
        "#### Building GenerationRuleSet function"
      ]
    },
    {
      "cell_type": "code",
      "execution_count": 2,
      "id": "2c5b8adc",
      "metadata": {
        "id": "2c5b8adc"
      },
      "outputs": [],
      "source": [
        "import pandas as pd\n",
        "import numpy as np\n",
        "from itertools import cycle\n",
        "\n",
        "def GenerationRuleSet(my_profile,size, cols, col_names = None, intervals = None, seed = None):\n",
        "    \n",
        "\n",
        "    # Building the columns for profile set    \n",
        "    categories_dict = {'disease': ['ckd', 'liverissue', 'Dementia', 'cancer', 'Heartdisease', 'asthma', 'asthma', 'asthma', 'Diabetes', 'mentalhealth', 'lungcancer', 'asthma', 'asthma', 'asthma', 'cold'],\n",
        "                       'names'  : ['James', 'Mary', 'Robert', 'Patricia', 'John', 'Jennifer', 'Michael', 'Linda', 'William', 'Elizabeth', 'Ahmed', 'Barbara', 'Richard', 'Susan', 'Salomon', 'Juan Luis'],\n",
        "                       'cities' : ['NewSouthWales', 'Victoria', 'Queensland', 'SouthAustralia', 'WesternAustralia', 'Tasmania', 'NorthernTerritory', 'CapitalTerritory', 'Adelaide', 'Melbourne', 'Sydney', 'Brisbane', 'Darwin', 'Canberra', 'Canberra'],\n",
        "                       'age' : [35, 11, 23, 32, 10, 15, 18, 29, 25, 28 ,16, 14, 14 ,23 ,32]\n",
        "                      }\n",
        "    \n",
        "    # Setting intervals to controls the fake values for each datatype\n",
        "    default_intervals = {\"i\" : (10,60), \"f\" : (0,100), \"c\" : (\"names\", 15), \"d\" : (\"2022-01-01\",\"2022-12-31\")}\n",
        "    rng = np.random.default_rng(seed)\n",
        "\n",
        "    first_c = default_intervals[\"c\"][0]\n",
        "    categories_names = cycle([first_c] + [c for c in categories_dict.keys() if c != first_c])\n",
        "    default_intervals[\"c\"] = (categories_names, default_intervals[\"c\"][1])\n",
        "\n",
        "    # Check the length of profile template\n",
        "    if isinstance(col_names,list):\n",
        "        assert len(col_names) == len(cols), f\"The fake DataFrame should have {len(cols)} columns but col_names is a list with {len(col_names)} elements\"\n",
        "    \n",
        "    elif col_names is None:\n",
        "        suffix = {\"c\" : \"cat\", \"i\" : \"int\", \"f\" : \"float\", \"d\" : \"date\"}\n",
        "        col_names = [f\"column_{str(i)}_{suffix.get(col)}\" for i, col in enumerate(cols)]\n",
        "\n",
        "    if isinstance(intervals,list):\n",
        "        assert len(intervals) == len(cols), f\"The fake DataFrame should have {len(cols)} columns but intervals is a list with {len(intervals)} elements\"\n",
        "    \n",
        "    else:\n",
        "        if isinstance(intervals,dict):\n",
        "            assert len(set(intervals.keys()) - set(default_intervals.keys())) == 0, f\"The intervals parameter has invalid keys\"\n",
        "            default_intervals.update(intervals)\n",
        "        intervals = [default_intervals[col] for col in cols]\n",
        "    df = pd.DataFrame()\n",
        "    \n",
        "    # Building the fake profile dataframe and return to main function\n",
        "    for col, col_name, interval in zip(cols, col_names, intervals):\n",
        "        \n",
        "        if interval is None:\n",
        "            interval = default_intervals[col]\n",
        "        \n",
        "        assert (len(interval) == 2 and isinstance(interval, tuple)) or isinstance(interval, list), f\"This interval {interval} is neither a tuple of two elements nor a list of strings.\"\n",
        "        \n",
        "        if col in (\"i\",\"f\",\"d\"):\n",
        "            start, end = interval\n",
        "        \n",
        "        if col == \"i\":\n",
        "            df[col_name] = rng.integers(start, end, size)\n",
        "        \n",
        "        elif col == \"f\":\n",
        "            df[col_name] = rng.uniform(start, end, size)\n",
        "        \n",
        "        elif col == \"c\":\n",
        "            \n",
        "            if isinstance(interval, list):\n",
        "                categories = np.array(interval)\n",
        "            else:\n",
        "                cat_family, length = interval\n",
        "            \n",
        "                if isinstance(cat_family, cycle):\n",
        "                    cat_family = next(cat_family)\n",
        "                assert cat_family in categories_dict.keys(), f\"There are no samples for category '{cat_family}'. Consider passing a list of samples or use one of the available categories: {categories_dict.keys()}\"\n",
        "                categories = rng.choice(categories_dict[cat_family], length, replace = False, shuffle = True)\n",
        "            \n",
        "            df[col_name] = rng.choice(categories, size, shuffle = True)\n",
        "        elif col == \"d\":\n",
        "            \n",
        "            df[col_name] = rng.choice(pd.date_range(start, end), size)\n",
        "    return df\n"
      ]
    },
    {
      "cell_type": "markdown",
      "id": "994fcfe0",
      "metadata": {
        "id": "994fcfe0"
      },
      "source": [
        "### The code starts here - main function to build the specific profile"
      ]
    },
    {
      "cell_type": "code",
      "execution_count": 3,
      "id": "f9031bb9",
      "metadata": {
        "colab": {
          "base_uri": "https://localhost:8080/"
        },
        "id": "f9031bb9",
        "outputId": "288d17c5-4fee-4efe-a67f-ae7a7447c1c8"
      },
      "outputs": [
        {
          "output_type": "stream",
          "name": "stdout",
          "text": [
            "***************** Here is the generic profile data *****************\n",
            "\n",
            "            name  age     disease               city last_tested\n",
            "0           John   52      asthma           Adelaide  2022-09-17\n",
            "1       Patricia   56      cancer   WesternAustralia  2022-04-11\n",
            "2       Patricia   49      asthma     SouthAustralia  2022-09-26\n",
            "3       Patricia   19         ckd           Canberra  2022-02-19\n",
            "4      Juan Luis   23      asthma  NorthernTerritory  2022-06-12\n",
            "...          ...  ...         ...                ...         ...\n",
            "49995      Linda   25    Dementia           Canberra  2022-09-12\n",
            "49996   Patricia   17  liverissue           Brisbane  2022-02-18\n",
            "49997      Linda   46      asthma           Canberra  2022-11-19\n",
            "49998    Michael   15      asthma           Canberra  2022-11-23\n",
            "49999    Barbara   14    Diabetes           Canberra  2022-11-19\n",
            "\n",
            "[50000 rows x 5 columns]\n",
            "\n",
            "------------ Statistical Distribution of Generic Profile ------------\n",
            "\n",
            "                age\n",
            "count  50000.000000\n",
            "mean      34.546140\n",
            "std       14.417741\n",
            "min       10.000000\n",
            "25%       22.000000\n",
            "50%       35.000000\n",
            "75%       47.000000\n",
            "max       59.000000\n"
          ]
        }
      ],
      "source": [
        "\n",
        "# For testing profile1 is set to run without manual input\n",
        "my_profile = 'profile1'\n",
        "\n",
        "df_profile = GenerationRuleSet(my_profile, size = 50000, cols =  \"ciccd\")\n",
        "\n",
        "print(\"***************** Here is the generic profile data *****************\" + \"\\n\")\n",
        "\n",
        "if profile[my_profile] == 'People between the ages 10-35 who have Asthma':\n",
        "    df_profile.rename(columns ={'column_0_cat':'name', 'column_1_int':'age','column_2_cat':'disease','column_3_cat':'city','column_4_date':'last_tested'}, inplace = True)\n",
        "    print(df_profile)\n",
        "    print()\n",
        "    print(\"------------ Statistical Distribution of Generic Profile ------------\")\n",
        "    print()\n",
        "    print(df_profile.describe())\n",
        "else:\n",
        "    print('Profile did not Match')"
      ]
    },
    {
      "cell_type": "markdown",
      "id": "10f0d234",
      "metadata": {
        "id": "10f0d234"
      },
      "source": [
        "#### Checking asthma patients"
      ]
    },
    {
      "cell_type": "code",
      "execution_count": 4,
      "id": "183b3934",
      "metadata": {
        "colab": {
          "base_uri": "https://localhost:8080/"
        },
        "id": "183b3934",
        "outputId": "2b87f4a0-d214-4279-c5fe-591bdf5d59b9"
      },
      "outputs": [
        {
          "output_type": "stream",
          "name": "stdout",
          "text": [
            "To build data for People between the ages 10-35 who have Asthma : Checking the count of various patient groups.\n",
            "\n"
          ]
        },
        {
          "output_type": "execute_result",
          "data": {
            "text/plain": [
              "asthma          20198\n",
              "ckd              3368\n",
              "Heartdisease     3367\n",
              "cold             3337\n",
              "Diabetes         3321\n",
              "liverissue       3320\n",
              "lungcancer       3297\n",
              "Dementia         3284\n",
              "cancer           3256\n",
              "mentalhealth     3252\n",
              "Name: disease, dtype: int64"
            ]
          },
          "metadata": {},
          "execution_count": 4
        }
      ],
      "source": [
        "print(\"To build data for\", profile[my_profile], \": Checking the count of various patient groups\" + \".\\n\")\n",
        "df_profile['disease'].value_counts()"
      ]
    },
    {
      "cell_type": "markdown",
      "id": "5e5aa4b1",
      "metadata": {
        "id": "5e5aa4b1"
      },
      "source": [
        "### People between the ages 10-35 who have Asthma"
      ]
    },
    {
      "cell_type": "code",
      "execution_count": 5,
      "id": "d7632bb7",
      "metadata": {
        "colab": {
          "base_uri": "https://localhost:8080/"
        },
        "id": "d7632bb7",
        "outputId": "72544c8f-12f7-4f11-dfc4-a709c596585c"
      },
      "outputs": [
        {
          "output_type": "stream",
          "name": "stdout",
          "text": [
            "People between the ages 10-35 who have Asthma: (10426, 5)\n",
            "\n",
            "            name  age disease               city last_tested\n",
            "4      Juan Luis   23  asthma  NorthernTerritory  2022-06-12\n",
            "9          Ahmed   29  asthma   WesternAustralia  2022-04-23\n",
            "11       Barbara   28  asthma           Victoria  2022-09-13\n",
            "14        Robert   33  asthma             Darwin  2022-06-14\n",
            "15        Robert   26  asthma             Sydney  2022-12-07\n",
            "...          ...  ...     ...                ...         ...\n",
            "49955  Elizabeth   17  asthma           Brisbane  2022-03-31\n",
            "49970      Ahmed   19  asthma           Brisbane  2022-12-19\n",
            "49981    Barbara   20  asthma           Brisbane  2022-10-28\n",
            "49988   Patricia   30  asthma     SouthAustralia  2022-07-23\n",
            "49998    Michael   15  asthma           Canberra  2022-11-23\n",
            "\n",
            "[10426 rows x 5 columns]\n"
          ]
        }
      ],
      "source": [
        "df_asthma_profile = df_profile[(df_profile['age'] >=10) & (df_profile['age'] <= 35) & (df_profile['disease'] == 'asthma')]\n",
        "print(\"People between the ages 10-35 who have Asthma:\", df_asthma_profile.shape)\n",
        "print()\n",
        "print(df_asthma_profile)"
      ]
    },
    {
      "cell_type": "markdown",
      "id": "abbf41a2",
      "metadata": {
        "id": "abbf41a2"
      },
      "source": [
        "### Plot the distribution of values in the age column using a histogram\n",
        "\n",
        "We will manipulate the data to achieve the triangle distribution."
      ]
    },
    {
      "cell_type": "code",
      "execution_count": 6,
      "id": "ebc3ca72",
      "metadata": {
        "colab": {
          "base_uri": "https://localhost:8080/",
          "height": 334
        },
        "id": "ebc3ca72",
        "outputId": "232de250-3af1-4e1a-b5a5-87d49410784d"
      },
      "outputs": [
        {
          "output_type": "stream",
          "name": "stdout",
          "text": [
            "\n",
            "Distribution of values in age of asthma patients\n",
            "\n"
          ]
        },
        {
          "output_type": "execute_result",
          "data": {
            "text/plain": [
              "<matplotlib.axes._subplots.AxesSubplot at 0x7fc4262942e0>"
            ]
          },
          "metadata": {},
          "execution_count": 6
        },
        {
          "output_type": "display_data",
          "data": {
            "text/plain": [
              "<Figure size 432x288 with 1 Axes>"
            ],
            "image/png": "[encoded data removed]"
          },
          "metadata": {
            "needs_background": "light"
          }
        }
      ],
      "source": [
        "#plot distribution of values in points column using histogram\n",
        "print(\"\\n\" + \"Distribution of values in age of asthma patients\"+ \"\\n\")\n",
        "df_asthma_profile['age'].plot(kind='hist', edgecolor='black')"
      ]
    },
    {
      "cell_type": "markdown",
      "id": "66519d75",
      "metadata": {
        "id": "66519d75"
      },
      "source": [
        "#### Let's create different distribution"
      ]
    },
    {
      "cell_type": "code",
      "execution_count": 7,
      "id": "048c855f",
      "metadata": {
        "colab": {
          "base_uri": "https://localhost:8080/"
        },
        "id": "048c855f",
        "outputId": "15d35f91-4bbc-488d-f131-0375cad6331e"
      },
      "outputs": [
        {
          "output_type": "stream",
          "name": "stdout",
          "text": [
            "People who have Asthma: (20198, 5)\n",
            "\n",
            "            name  age disease               city last_tested\n",
            "0           John   52  asthma           Adelaide  2022-09-17\n",
            "1       Patricia   49  asthma     SouthAustralia  2022-09-26\n",
            "2      Juan Luis   23  asthma  NorthernTerritory  2022-06-12\n",
            "3          Ahmed   46  asthma     SouthAustralia  2022-03-04\n",
            "4          Ahmed   29  asthma   WesternAustralia  2022-04-23\n",
            "...          ...  ...     ...                ...         ...\n",
            "20193       Mary   53  asthma     SouthAustralia  2022-02-26\n",
            "20194   Patricia   30  asthma     SouthAustralia  2022-07-23\n",
            "20195       Mary   51  asthma  NorthernTerritory  2022-09-16\n",
            "20196      Linda   46  asthma           Canberra  2022-11-19\n",
            "20197    Michael   15  asthma           Canberra  2022-11-23\n",
            "\n",
            "[20198 rows x 5 columns]\n"
          ]
        }
      ],
      "source": [
        "df_asthma = df_profile[(df_profile['disease'] == 'asthma')]\n",
        "\n",
        "print(\"People who have Asthma:\", df_asthma.shape)\n",
        "print()\n",
        "df_asthma.reset_index(drop=True, inplace=True)\n",
        "print(df_asthma)"
      ]
    },
    {
      "cell_type": "code",
      "execution_count": 8,
      "id": "7ad3c140",
      "metadata": {
        "colab": {
          "base_uri": "https://localhost:8080/",
          "height": 352
        },
        "id": "7ad3c140",
        "outputId": "9792ffc7-6f41-45ff-a766-7c1b85018cd7"
      },
      "outputs": [
        {
          "output_type": "stream",
          "name": "stdout",
          "text": [
            "People who have Asthma: 20198\n",
            "\n",
            "Min Age have Asthma: 10\n",
            "Max age have Asthma: 59\n",
            "\n"
          ]
        },
        {
          "output_type": "display_data",
          "data": {
            "text/plain": [
              "<Figure size 432x288 with 1 Axes>"
            ],
            "image/png": "[encoded data removed]"
          },
          "metadata": {
            "needs_background": "light"
          }
        }
      ],
      "source": [
        "print(\"People who have Asthma:\", df_asthma.shape[0])\n",
        "print()\n",
        "print(\"Min Age have Asthma:\", df_asthma['age'].min())\n",
        "print(\"Max age have Asthma:\", df_asthma['age'].max())\n",
        "print()\n",
        "gfg = np.random.triangular(df_asthma['age'].min(), df_asthma['age'].max(), df_asthma['age'].max(), df_asthma.shape[0])\n",
        "gfg = gfg.astype(int)\n",
        "import matplotlib.pyplot as plt\n",
        "plt.hist(gfg, bins = 10, density = True, edgecolor='black')\n",
        "plt.show()"
      ]
    },
    {
      "cell_type": "markdown",
      "id": "ac96eaa4",
      "metadata": {
        "id": "ac96eaa4"
      },
      "source": [
        "### Now we see Min Age have Asthma: 10 and Max age have Asthma: 59, with this the distribution is triangular."
      ]
    }
  ],
  "metadata": {
    "colab": {
      "provenance": [],
      "toc_visible": true
    },
    "kernelspec": {
      "display_name": "Python 3 (ipykernel)",
      "language": "python",
      "name": "python3"
    },
    "language_info": {
      "codemirror_mode": {
        "name": "ipython",
        "version": 3
      },
      "file_extension": ".py",
      "mimetype": "text/x-python",
      "name": "python",
      "nbconvert_exporter": "python",
      "pygments_lexer": "ipython3",
      "version": "3.9.12"
    }
  },
  "nbformat": 4,
  "nbformat_minor": 5
}